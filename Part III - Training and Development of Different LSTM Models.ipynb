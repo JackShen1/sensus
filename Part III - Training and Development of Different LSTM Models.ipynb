{
  "cells": [
    {
      "cell_type": "markdown",
      "metadata": {
        "id": "lva4WL1eUAum"
      },
      "source": [
        "<h1 align=\"center\">PART III</h1>\n",
        "<h1 align=\"center\">Training and Development of Different LSTM Models</h1> "
      ]
    },
    {
      "cell_type": "markdown",
      "metadata": {
        "id": "mkuAEyhzUAu0"
      },
      "source": [
        "To get started, let's download the necessary libraries:"
      ]
    },
    {
      "cell_type": "code",
      "execution_count": 1,
      "metadata": {
        "id": "PJYCN9LEUAu2"
      },
      "outputs": [],
      "source": [
        "import numpy as np\n",
        "import pandas as pd\n",
        "import pickle\n",
        "import gensim, logging\n",
        "import gensim.models.keyedvectors as word2vec\n",
        "import matplotlib.pyplot as plt\n",
        "\n",
        "%matplotlib inline"
      ]
    },
    {
      "cell_type": "code",
      "source": [
        "from keras.models import Sequential\n",
        "from keras.layers import LSTM\n",
        "from keras.layers.core import Dense\n",
        "from keras.models import load_model\n",
        "from keras.layers.core import Dropout"
      ],
      "metadata": {
        "id": "RcrRvb5oXupu"
      },
      "execution_count": 2,
      "outputs": []
    },
    {
      "cell_type": "markdown",
      "metadata": {
        "id": "Q2nLR8J5UAu7"
      },
      "source": [
        "Also let's write a style for alignment in the middle of all graphs, images, etc:"
      ]
    },
    {
      "cell_type": "code",
      "execution_count": 3,
      "metadata": {
        "colab": {
          "base_uri": "https://localhost:8080/",
          "height": 17
        },
        "id": "AGpiAGeHUAu-",
        "outputId": "4aeac01d-92d2-439f-c825-f3fed0fa0ff2"
      },
      "outputs": [
        {
          "output_type": "execute_result",
          "data": {
            "text/plain": [
              "<IPython.core.display.HTML object>"
            ],
            "text/html": [
              "\n",
              "<style>\n",
              ".output_png {\n",
              "    display: table-cell;\n",
              "    text-align: center;\n",
              "    vertical-align: middle;\n",
              "}\n",
              "</style>\n"
            ]
          },
          "metadata": {},
          "execution_count": 3
        }
      ],
      "source": [
        "from IPython.core.display import HTML\n",
        "HTML(\"\"\"\n",
        "<style>\n",
        ".output_png {\n",
        "    display: table-cell;\n",
        "    text-align: center;\n",
        "    vertical-align: middle;\n",
        "}\n",
        "</style>\n",
        "\"\"\")"
      ]
    },
    {
      "cell_type": "markdown",
      "metadata": {
        "id": "QA8Xr_kuUAvC"
      },
      "source": [
        "<h2 align=\"center\">Preparation of input data</h2> \n",
        "\n",
        "Firstly, we will load the sample data we processed in the first part:"
      ]
    },
    {
      "cell_type": "code",
      "execution_count": 4,
      "metadata": {
        "id": "OaiT9x7lUAvD"
      },
      "outputs": [],
      "source": [
        "with open('documents.pql', 'rb') as f:\n",
        "     docs = pickle.load(f)"
      ]
    },
    {
      "cell_type": "code",
      "source": [
        "import random\n",
        "\n",
        "pos = [doc for doc in docs if doc[1] == \"pos\"][:15000]\n",
        "neg = [doc for doc in docs if doc[1] == \"neg\"][:15000]\n",
        "\n",
        "docs = pos + neg\n",
        "random.shuffle(docs)"
      ],
      "metadata": {
        "id": "2VCXoOsbgCVy"
      },
      "execution_count": 5,
      "outputs": []
    },
    {
      "cell_type": "code",
      "execution_count": 6,
      "metadata": {
        "colab": {
          "base_uri": "https://localhost:8080/"
        },
        "id": "LvNMiyJfUAvG",
        "outputId": "99dddc27-896c-40d2-be53-20a6a12ddbf8"
      },
      "outputs": [
        {
          "output_type": "stream",
          "name": "stdout",
          "text": [
            "Number of documents: 30000\n"
          ]
        }
      ],
      "source": [
        "print(\"Number of documents:\", len(docs))"
      ]
    },
    {
      "cell_type": "markdown",
      "metadata": {
        "id": "sc4ggoC9UAvL"
      },
      "source": [
        "Now we will load our word2vec model. \n",
        "\n",
        "This may take some time, as the model contains 325 250  words, so we will get a 325 250 x 300 embedding matrix that contains all the values of the word vectors."
      ]
    },
    {
      "cell_type": "code",
      "execution_count": 7,
      "metadata": {
        "id": "NxCptR0qUAvO"
      },
      "outputs": [],
      "source": [
        "model = word2vec.KeyedVectors.load_word2vec_format('ubercorpus.lowercased.lemmatized.word2vec.300d.txt', binary=False)"
      ]
    },
    {
      "cell_type": "markdown",
      "metadata": {
        "id": "u4SMf_dkUAvQ"
      },
      "source": [
        "Now let's get a list of all the words from our dictionary:"
      ]
    },
    {
      "cell_type": "code",
      "execution_count": 8,
      "metadata": {
        "id": "6gYT_cCLUAvS"
      },
      "outputs": [],
      "source": [
        "words = list(model.index_to_key)"
      ]
    },
    {
      "cell_type": "markdown",
      "metadata": {
        "id": "_E6iFE2nUAvT"
      },
      "source": [
        "Just to make sure everything is loaded correctly, we can look at the dimensions of the dictionary list and the embedding matrix:"
      ]
    },
    {
      "cell_type": "code",
      "execution_count": 9,
      "metadata": {
        "colab": {
          "base_uri": "https://localhost:8080/"
        },
        "id": "Ed2ShP8MUAvV",
        "outputId": "2cb3410a-3945-4c42-cf88-6faa76633ff9"
      },
      "outputs": [
        {
          "output_type": "stream",
          "name": "stdout",
          "text": [
            "Total words: 325250 \n",
            "\n",
            "Word-Vectors shape: (325250, 300)\n"
          ]
        }
      ],
      "source": [
        "print(\"Total words:\", len(words), \"\\n\\nWord-Vectors shape:\", model.vectors.shape)"
      ]
    },
    {
      "cell_type": "markdown",
      "metadata": {
        "id": "kz0v97JmUAvX"
      },
      "source": [
        "The shape of our sample for training will be `(H, 300, N)`, where:\n",
        "* `H` - number of samples;\n",
        "* `300` - dimension of each word; \n",
        "* `N` - number of words in each sentence.\n",
        "\n",
        "Let's analyze how many words are usually found in the reviews:"
      ]
    },
    {
      "cell_type": "code",
      "execution_count": 10,
      "metadata": {
        "colab": {
          "base_uri": "https://localhost:8080/"
        },
        "id": "wTyGdPrxUAvY",
        "outputId": "9c851492-3c61-4c6c-fa8d-83e562d421a0"
      },
      "outputs": [
        {
          "output_type": "stream",
          "name": "stdout",
          "text": [
            "Average number of words in the review: 40\n",
            "\n",
            "Maximum review length: 363 \n",
            "Minimum review length: 1\n",
            "\n",
            "Review with more than 50 words: 7493 \n",
            "Review with more than 100 words: 2211 \n",
            "Review with more than 200 words: 323 \n",
            "Review with more than 300 words: 18 \n",
            "Review with more than 400 words: 0\n"
          ]
        }
      ],
      "source": [
        "max_word, min_word = 0, 100\n",
        "word50, word100, word200, word300, word400  = 0, 0, 0, 0, 0\n",
        "reviews_len = []\n",
        "\n",
        "for review, state in docs:\n",
        "    reviews_len.append(len(review))\n",
        "\n",
        "    if len(review) > max_word: max_word = len(review)\n",
        "    if len(review) < min_word: min_word = len(review)\n",
        "\n",
        "    if len(review) > 50: word50 += 1\n",
        "    if len(review) > 100: word100 += 1\n",
        "    if len(review) > 200: word200 += 1\n",
        "    if len(review) > 300: word300 += 1\n",
        "    if len(review) > 400: word400 += 1\n",
        "    \n",
        "print(\"Average number of words in the review:\", int(sum(reviews_len)/len(reviews_len)))\n",
        "print(\"\\nMaximum review length:\", max_word, \"\\nMinimum review length:\", min_word)\n",
        "print(\"\\nReview with more than 50 words:\", word50, \n",
        "      \"\\nReview with more than 100 words:\", word100,\n",
        "      \"\\nReview with more than 200 words:\", word200, \n",
        "      \"\\nReview with more than 300 words:\", word300,\n",
        "      \"\\nReview with more than 400 words:\", word400)"
      ]
    },
    {
      "cell_type": "markdown",
      "metadata": {
        "id": "LZdo8KFFUAva"
      },
      "source": [
        "Visualize the frequency of words in the review:"
      ]
    },
    {
      "cell_type": "code",
      "execution_count": 11,
      "metadata": {
        "colab": {
          "base_uri": "https://localhost:8080/",
          "height": 295
        },
        "id": "yHTCVs34UAvb",
        "outputId": "312a7061-544b-44a9-970d-eed39e6bd397"
      },
      "outputs": [
        {
          "output_type": "display_data",
          "data": {
            "text/plain": [
              "<Figure size 432x288 with 1 Axes>"
            ],
            "image/png": "[encoded data removed]"
          },
          "metadata": {
            "needs_background": "light"
          }
        }
      ],
      "source": [
        "plt.hist(reviews_len, bins=50)\n",
        "plt.axis([0, 400, 0, 5000])\n",
        "plt.ylabel('Frequency')\n",
        "plt.xlabel('Sequence Length');\n",
        "plt.title(\"Average number of words\");"
      ]
    },
    {
      "cell_type": "markdown",
      "metadata": {
        "id": "UDmHmAUGUAvc"
      },
      "source": [
        "Our next function `fix_review_len()` will do a useful job, this function is designed to fix the size of reviews to a fixed size to feed them into a neural network with reviews of a certain length. Reviews whose length is less than fixed will be extended by zeros. This process does not affect the algorithm and reviews longer than the specified length will be truncated."
      ]
    },
    {
      "cell_type": "code",
      "execution_count": 12,
      "metadata": {
        "colab": {
          "base_uri": "https://localhost:8080/"
        },
        "id": "kW4wcvQaUAvc",
        "outputId": "9aafd49f-602c-497f-f5a8-0293d39f4608"
      },
      "outputs": [
        {
          "output_type": "stream",
          "name": "stdout",
          "text": [
            "[3, 1, 2, 4, 5, [0, 0, 0, 0, 0, 0, 0, 0, 0, 0, 0, 0, 0, 0, 0, 0, 0, 0, 0, 0, 0, 0, 0, 0, 0, 0, 0, 0, 0, 0, 0, 0, 0, 0, 0, 0, 0, 0, 0, 0, 0, 0, 0, 0, 0, 0, 0, 0, 0, 0, 0, 0, 0, 0, 0, 0, 0, 0, 0, 0, 0, 0, 0, 0, 0, 0, 0, 0, 0, 0, 0, 0, 0, 0, 0, 0, 0, 0, 0, 0, 0, 0, 0, 0, 0, 0, 0, 0, 0, 0, 0, 0, 0, 0, 0, 0, 0, 0, 0, 0, 0, 0, 0, 0, 0, 0, 0, 0, 0, 0, 0, 0, 0, 0, 0, 0, 0, 0, 0, 0, 0, 0, 0, 0, 0, 0, 0, 0, 0, 0, 0, 0, 0, 0, 0, 0, 0, 0, 0, 0, 0, 0, 0, 0, 0, 0, 0, 0, 0, 0, 0, 0, 0, 0, 0, 0, 0, 0, 0, 0, 0, 0, 0, 0, 0, 0, 0, 0, 0, 0, 0, 0, 0, 0, 0, 0, 0, 0, 0, 0, 0, 0, 0, 0, 0, 0, 0, 0, 0, 0, 0, 0, 0, 0, 0, 0, 0, 0, 0, 0, 0, 0, 0, 0, 0, 0, 0, 0, 0, 0, 0, 0, 0, 0, 0, 0, 0, 0, 0, 0, 0, 0, 0, 0, 0, 0, 0, 0, 0, 0, 0, 0, 0, 0, 0, 0, 0, 0, 0, 0, 0, 0, 0, 0, 0, 0, 0, 0, 0, 0, 0, 0, 0, 0, 0, 0, 0, 0, 0, 0, 0, 0, 0, 0, 0, 0, 0, 0, 0, 0, 0, 0, 0, 0, 0, 0, 0, 0, 0, 0, 0, 0, 0, 0, 0, 0, 0, 0, 0, 0, 0, 0, 0, 0, 0, 0, 0, 0, 0, 0], [0, 0, 0, 0, 0, 0, 0, 0, 0, 0, 0, 0, 0, 0, 0, 0, 0, 0, 0, 0, 0, 0, 0, 0, 0, 0, 0, 0, 0, 0, 0, 0, 0, 0, 0, 0, 0, 0, 0, 0, 0, 0, 0, 0, 0, 0, 0, 0, 0, 0, 0, 0, 0, 0, 0, 0, 0, 0, 0, 0, 0, 0, 0, 0, 0, 0, 0, 0, 0, 0, 0, 0, 0, 0, 0, 0, 0, 0, 0, 0, 0, 0, 0, 0, 0, 0, 0, 0, 0, 0, 0, 0, 0, 0, 0, 0, 0, 0, 0, 0, 0, 0, 0, 0, 0, 0, 0, 0, 0, 0, 0, 0, 0, 0, 0, 0, 0, 0, 0, 0, 0, 0, 0, 0, 0, 0, 0, 0, 0, 0, 0, 0, 0, 0, 0, 0, 0, 0, 0, 0, 0, 0, 0, 0, 0, 0, 0, 0, 0, 0, 0, 0, 0, 0, 0, 0, 0, 0, 0, 0, 0, 0, 0, 0, 0, 0, 0, 0, 0, 0, 0, 0, 0, 0, 0, 0, 0, 0, 0, 0, 0, 0, 0, 0, 0, 0, 0, 0, 0, 0, 0, 0, 0, 0, 0, 0, 0, 0, 0, 0, 0, 0, 0, 0, 0, 0, 0, 0, 0, 0, 0, 0, 0, 0, 0, 0, 0, 0, 0, 0, 0, 0, 0, 0, 0, 0, 0, 0, 0, 0, 0, 0, 0, 0, 0, 0, 0, 0, 0, 0, 0, 0, 0, 0, 0, 0, 0, 0, 0, 0, 0, 0, 0, 0, 0, 0, 0, 0, 0, 0, 0, 0, 0, 0, 0, 0, 0, 0, 0, 0, 0, 0, 0, 0, 0, 0, 0, 0, 0, 0, 0, 0, 0, 0, 0, 0, 0, 0, 0, 0, 0, 0, 0, 0, 0, 0, 0, 0, 0, 0]]\n"
          ]
        }
      ],
      "source": [
        "def fix_review_len(review, length):\n",
        "    if len(review) > length:\n",
        "        review = review[:length]\n",
        "    elif len(review) < length:\n",
        "        for i in range(length - len(review)):\n",
        "            zeros = [0] * 300\n",
        "            review.append(zeros)\n",
        "    return review\n",
        "\n",
        "example = [3, 1, 2, 4, 5]\n",
        "example = fix_review_len(example, 7)\n",
        "print(example) "
      ]
    },
    {
      "cell_type": "markdown",
      "metadata": {
        "id": "IFC0ZjeFUAve"
      },
      "source": [
        "Now let's slightly improve our `sent_embed()` function from previous part and then update our dataset with word vectors.\n",
        "\n",
        "Based on the histogram data, as well as the average number of words in the files, we can say with confidence that most reviews will have less than 100 words, which is the maximum value of the length of the sequence that we set."
      ]
    },
    {
      "cell_type": "code",
      "execution_count": 13,
      "metadata": {
        "id": "byCFbH6xUAve"
      },
      "outputs": [],
      "source": [
        "def sent_embed(words, docs):\n",
        "    x_sent_embed, y_sent_embed = [], [] \n",
        "    \n",
        "    max_seq_len = 50\n",
        "    \n",
        "    # recover the embedding of each sentence with the average of the vector that composes it\n",
        "    # sent - sentence, state - state of the sentence (pos/neg)\n",
        "    for sent, state in docs:\n",
        "        # average embedding of all words in a sentence\n",
        "        sent_embed = []\n",
        "        for word in sent:\n",
        "            try:\n",
        "                # if word is present in the dictionary - add its vector representation\n",
        "                sent_embed.append(model[word])\n",
        "            except KeyError:\n",
        "                # if word is not in the dictionary - add a zero vector\n",
        "                sent_embed.append([0] * 300)\n",
        "        \n",
        "        # add a sentence vector to the list\n",
        "        sent_embed = fix_review_len(sent_embed, max_seq_len)\n",
        "        x_sent_embed.append(sent_embed)\n",
        "        \n",
        "        # add a label to y_sent_embed\n",
        "        if state == 'pos': y_sent_embed.append(1)\n",
        "        elif state == 'neg': y_sent_embed.append(0)\n",
        "            \n",
        "    return x_sent_embed, y_sent_embed"
      ]
    },
    {
      "cell_type": "code",
      "execution_count": 14,
      "metadata": {
        "id": "k-NTBtZKUAvf"
      },
      "outputs": [],
      "source": [
        "x, y = sent_embed(words, docs)"
      ]
    },
    {
      "cell_type": "code",
      "execution_count": 15,
      "metadata": {
        "colab": {
          "base_uri": "https://localhost:8080/"
        },
        "id": "Ys6ex88UUAvg",
        "outputId": "9886297f-ca10-41a0-cbde-b8a066ab480d"
      },
      "outputs": [
        {
          "output_type": "stream",
          "name": "stdout",
          "text": [
            "Shape of X: (30000, 50, 300)\n"
          ]
        }
      ],
      "source": [
        "x = np.array(x)\n",
        "print(\"Shape of X:\", x.shape)"
      ]
    },
    {
      "cell_type": "markdown",
      "metadata": {
        "id": "EQf3lg0BUAvh"
      },
      "source": [
        "<h3 align=\"center\">Split Corpus</h3>\n",
        "\n",
        "Now, for further work, we will divide our corpus for training, testing and development sets:"
      ]
    },
    {
      "cell_type": "code",
      "execution_count": 16,
      "metadata": {
        "id": "sWwXlssdUAvi"
      },
      "outputs": [],
      "source": [
        "from sklearn.model_selection import train_test_split\n",
        "\n",
        "# train test\n",
        "x_train, x_test, y_train, y_test = train_test_split(x, y, test_size=0.25, random_state=42)\n",
        "\n",
        "# train dev\n",
        "x_train, x_val, y_train, y_val = train_test_split(x_train, y_train, test_size=0.25, random_state=42)"
      ]
    },
    {
      "cell_type": "code",
      "execution_count": 17,
      "metadata": {
        "colab": {
          "base_uri": "https://localhost:8080/"
        },
        "id": "hn93dkv9UAvj",
        "outputId": "cfca084b-c387-4aae-9bb9-bac32deaa769"
      },
      "outputs": [
        {
          "output_type": "stream",
          "name": "stdout",
          "text": [
            "Length of x_train: 16875 | Length of y_train: 16875\n",
            "Length of x_test:   7500 | Length of y_test:  7500\n",
            "Length of x_val:    5625 | Length of y_val:   5625\n"
          ]
        }
      ],
      "source": [
        "print('Length of x_train:', len(x_train), '| Length of y_train:', len(y_train))\n",
        "print('Length of x_test:  ', len(x_test), '| Length of y_test: ', len(y_test))\n",
        "print('Length of x_val:   ', len(x_val), '| Length of y_val:  ', len(y_val))"
      ]
    },
    {
      "cell_type": "code",
      "execution_count": 18,
      "metadata": {
        "colab": {
          "base_uri": "https://localhost:8080/"
        },
        "id": "sLZwdAMRUAvk",
        "outputId": "18607251-2566-43e7-867a-5861946aa3db"
      },
      "outputs": [
        {
          "output_type": "stream",
          "name": "stdout",
          "text": [
            "Shape of x_train set: (16875, 50, 300)\n"
          ]
        }
      ],
      "source": [
        "print(\"Shape of x_train set:\", x_train.shape)"
      ]
    },
    {
      "cell_type": "markdown",
      "metadata": {
        "id": "Gk4hpYPmUAvl"
      },
      "source": [
        "<h2 align=\"center\">LSTM Model (Stochastic Gradient Descent)</h2>"
      ]
    },
    {
      "cell_type": "markdown",
      "metadata": {
        "id": "9I3W0MIMUAvl"
      },
      "source": [
        "Keras's benefit is that it is built on top of symbolic mathematical libraries such as TensorFlow and Theano for fast and efficient computation. This is needed with large neural networks.\n",
        "\n",
        "A downside of using these efficient libraries is that you must define the scope of your data upfront and for all time. Specifically, the batch size.\n",
        "\n",
        "Neural networks are trained using the stochastic gradient descent optimization algorithm.\n",
        "\n",
        "This involves using the current state of the model to make a prediction, comparing the prediction to the expected values, and using the difference as an estimate of the error gradient. This error gradient is then used to update the model weights and the process is repeated.\n",
        "\n",
        "The error gradient is a statistical estimate. The more training examples used in the estimate, the more accurate this estimate will be and the more likely that the weights of the network will be adjusted in a way that will improve the performance of the model. The improved estimate of the error gradient comes at the cost of having to use the model to make many more predictions before the estimate can be calculated, and in turn, the weights updated.\n",
        "\n",
        "Alternately, using fewer examples results in a less accurate estimate of the error gradient that is highly dependent on the specific training examples used.\n",
        "\n",
        "This results in a noisy estimate that, in turn, results in noisy updates to the model weights, e.g. many updates with perhaps quite different estimates of the error gradient. Nevertheless, these noisy updates can result in faster learning and sometimes a more robust model.\n",
        "\n",
        "The number of training examples used in the estimate of the error gradient is a hyperparameter for the learning algorithm called the “batch size,” or simply the “batch.”\n",
        "\n",
        "A batch size of 32 means that 32 samples from the training dataset will be used to estimate the error gradient before the model weights are updated. One training epoch means that the learning algorithm has made one pass through the training dataset, where examples were separated into randomly selected “batch size” groups.\n",
        "\n",
        "Historically, a training algorithm where the batch size is set to the total number of training examples is called “batch gradient descent” and a training algorithm where the batch size is set to 1 training example is called “stochastic gradient descent” or “online gradient descent.”\n",
        "\n",
        "A configuration of the batch size anywhere in between (e.g. more than 1 example and less than the number of examples in the training dataset) is called “minibatch gradient descent.”\n",
        "\n",
        "  - **Batch Gradient Descent**. Batch size is set to the total number of examples in the training dataset.\n",
        "  - **Stochastic Gradient Descent**. Batch size is set to one.\n",
        "  - **Minibatch Gradient Descent**. Batch size is set to more than one and less than the total number of examples in the training dataset. For shorthand, the algorithm is often referred to as stochastic gradient descent regardless of the batch size. Given that very large datasets are often used to train deep learning neural networks, the batch size is rarely set to the size of the training dataset.\n",
        "\n",
        "Smaller batch sizes are used for two main reasons:\n",
        "\n",
        "   - Smaller batch sizes are noisy, offering a regularizing effect and lower generalization error.\n",
        "   - Smaller batch sizes make it easier to fit one batch worth of training data in memory (i.e. when using a GPU). \n",
        "   - A third reason is that the batch size is often set at something small, such as 32 examples, and is not tuned by the practitioner. Small batch sizes such as 32 do work well generally.\n",
        "   \n",
        "Nevertheless, the batch size impacts how quickly a model learns and the stability of the learning process. It is an important hyperparameter that should be well understood and tuned by the deep learning practitioner."
      ]
    },
    {
      "cell_type": "markdown",
      "metadata": {
        "id": "zKrM1guPUAvm"
      },
      "source": [
        "<h3 align=\"center\">Setting Up and Creating the Network</h3>\n",
        "\n",
        "The network has one input, a hidden layer with 128 units, and an output layer with 1 unit.\n",
        "\n",
        "A mean squared error optimization function is used for this problem with the efficient ADAM optimization algorithm.\n",
        "\n",
        "So now let's configure and create the network:"
      ]
    },
    {
      "cell_type": "code",
      "execution_count": null,
      "metadata": {
        "colab": {
          "base_uri": "https://localhost:8080/"
        },
        "id": "zkEEUIlhUAvn",
        "outputId": "f21ebb35-65a0-4a5e-d49b-34fde5681d72"
      },
      "outputs": [
        {
          "output_type": "stream",
          "name": "stdout",
          "text": [
            "Model: \"sequential\"\n",
            "_________________________________________________________________\n",
            " Layer (type)                Output Shape              Param #   \n",
            "=================================================================\n",
            " lstm (LSTM)                 (None, 128)               219648    \n",
            "                                                                 \n",
            " dense (Dense)               (None, 1)                 129       \n",
            "                                                                 \n",
            "=================================================================\n",
            "Total params: 219,777\n",
            "Trainable params: 219,777\n",
            "Non-trainable params: 0\n",
            "_________________________________________________________________\n",
            "None\n"
          ]
        }
      ],
      "source": [
        "from keras.models import Sequential\n",
        "from keras.layers import LSTM\n",
        "from keras.layers.core import Dense\n",
        "\n",
        "# configure network\n",
        "n_neurons = 128\n",
        "n_epoch = 20\n",
        "n_batch = 1\n",
        "\n",
        "# design network\n",
        "model_batch = Sequential()\n",
        "model_batch.add(LSTM(n_neurons, input_shape=(x.shape[1], x.shape[2])))\n",
        "model_batch.add(Dense(1, activation='sigmoid'))\n",
        "model_batch.compile(loss='mean_squared_error', optimizer='adam', metrics=['binary_accuracy'])\n",
        "\n",
        "print(model_batch.summary())"
      ]
    },
    {
      "cell_type": "code",
      "execution_count": null,
      "metadata": {
        "colab": {
          "base_uri": "https://localhost:8080/"
        },
        "id": "PSDwAFP2UAvo",
        "outputId": "661a6ba0-a9a3-44c5-a481-f4e90d51ecc4"
      },
      "outputs": [
        {
          "output_type": "stream",
          "name": "stdout",
          "text": [
            "Epoch 1/20\n",
            "16875/16875 [==============================] - 560s 33ms/step - loss: 0.1972 - binary_accuracy: 0.6882\n",
            "Epoch 2/20\n",
            "16875/16875 [==============================] - 551s 33ms/step - loss: 0.1515 - binary_accuracy: 0.7828\n",
            "Epoch 3/20\n",
            "16875/16875 [==============================] - 544s 32ms/step - loss: 0.1356 - binary_accuracy: 0.8094\n",
            "Epoch 4/20\n",
            "16875/16875 [==============================] - 590s 35ms/step - loss: 0.1226 - binary_accuracy: 0.8309\n",
            "Epoch 5/20\n",
            "16875/16875 [==============================] - 600s 36ms/step - loss: 0.1130 - binary_accuracy: 0.8491\n",
            "Epoch 6/20\n",
            "16875/16875 [==============================] - 581s 34ms/step - loss: 0.1021 - binary_accuracy: 0.8636\n",
            "Epoch 7/20\n",
            "16875/16875 [==============================] - 565s 34ms/step - loss: 0.0946 - binary_accuracy: 0.8741\n",
            "Epoch 8/20\n",
            "16875/16875 [==============================] - 584s 35ms/step - loss: 0.0875 - binary_accuracy: 0.8826\n",
            "Epoch 9/20\n",
            "16875/16875 [==============================] - 577s 34ms/step - loss: 0.0830 - binary_accuracy: 0.8891\n",
            "Epoch 10/20\n",
            "16875/16875 [==============================] - 577s 34ms/step - loss: 0.0768 - binary_accuracy: 0.9010\n",
            "Epoch 11/20\n",
            "16875/16875 [==============================] - 573s 34ms/step - loss: 0.0777 - binary_accuracy: 0.8961\n",
            "Epoch 12/20\n",
            "16875/16875 [==============================] - 589s 35ms/step - loss: 0.0731 - binary_accuracy: 0.9045\n",
            "Epoch 13/20\n",
            "16875/16875 [==============================] - 633s 38ms/step - loss: 0.0717 - binary_accuracy: 0.9081\n",
            "Epoch 14/20\n",
            "16875/16875 [==============================] - 654s 39ms/step - loss: 0.0707 - binary_accuracy: 0.9079\n",
            "Epoch 15/20\n",
            "16875/16875 [==============================] - 711s 42ms/step - loss: 0.0689 - binary_accuracy: 0.9121\n",
            "Epoch 16/20\n",
            "16875/16875 [==============================] - 674s 40ms/step - loss: 0.0650 - binary_accuracy: 0.9156\n",
            "Epoch 17/20\n",
            "16875/16875 [==============================] - 701s 42ms/step - loss: 0.0658 - binary_accuracy: 0.9154\n",
            "Epoch 18/20\n",
            "16875/16875 [==============================] - 619s 37ms/step - loss: 0.0610 - binary_accuracy: 0.9227\n",
            "Epoch 19/20\n",
            "16875/16875 [==============================] - 609s 36ms/step - loss: 0.0608 - binary_accuracy: 0.9225\n",
            "Epoch 20/20\n",
            "16875/16875 [==============================] - 585s 35ms/step - loss: 0.0605 - binary_accuracy: 0.9241\n"
          ]
        }
      ],
      "source": [
        "model_batch_hist = model_batch.fit(x_train, np.asarray(y_train), batch_size=n_batch, epochs=n_epoch)"
      ]
    },
    {
      "cell_type": "code",
      "execution_count": null,
      "metadata": {
        "colab": {
          "base_uri": "https://localhost:8080/"
        },
        "id": "jaq6sAhBUAvp",
        "outputId": "46b48807-da65-4fb9-948c-604ffd277a80"
      },
      "outputs": [
        {
          "output_type": "stream",
          "name": "stdout",
          "text": [
            "5625/5625 [==============================] - 36s 6ms/step - loss: 0.1859 - binary_accuracy: 0.7673\n",
            "\n",
            "Model Accuracy: 76.73%\n"
          ]
        }
      ],
      "source": [
        "score_batch = model_batch.evaluate(x_val, np.asarray(y_val), batch_size=n_batch)\n",
        "print(\"\\nModel Accuracy:\",str(round(score_batch[1] * 100, 2)) + '%')"
      ]
    },
    {
      "cell_type": "code",
      "execution_count": null,
      "metadata": {
        "colab": {
          "base_uri": "https://localhost:8080/",
          "height": 299
        },
        "id": "-ZBoMTiMUAvp",
        "outputId": "538b2cbb-952c-48e6-f9bd-e2514be2ebc4"
      },
      "outputs": [
        {
          "output_type": "display_data",
          "data": {
            "text/plain": [
              "<Figure size 432x288 with 1 Axes>"
            ],
            "image/png": "[encoded data removed]"
          },
          "metadata": {}
        }
      ],
      "source": [
        "plt.style.use('ggplot')\n",
        "plt.plot(model_batch_hist.history['loss'])\n",
        "\n",
        "plt.title('Model Loss')\n",
        "plt.ylabel('Loss')\n",
        "plt.xlabel('Epoch')\n",
        "plt.legend(['Train'], loc='lower left')\n",
        "\n",
        "plt.show()"
      ]
    },
    {
      "cell_type": "markdown",
      "metadata": {
        "id": "WL3WSOAGUAvq"
      },
      "source": [
        "The results are not entirely satisfactory, but let's save this model and try a different approach."
      ]
    },
    {
      "cell_type": "code",
      "execution_count": null,
      "metadata": {
        "id": "DjRshqbRUAvq"
      },
      "outputs": [],
      "source": [
        "from keras.models import load_model\n",
        "\n",
        "model_batch.save('models/LSTM-Batch-Model.h5')  # save model\n",
        "del model_batch  # delete existing model"
      ]
    },
    {
      "cell_type": "code",
      "source": [
        "# returns a compiled model, identical to the previous one\n",
        "model_batch = load_model('models/LSTM-Batch-Model.h5')"
      ],
      "metadata": {
        "id": "OmOr8Pjfnp7L"
      },
      "execution_count": 20,
      "outputs": []
    },
    {
      "cell_type": "markdown",
      "metadata": {
        "id": "xNbEOGJBUAvr"
      },
      "source": [
        "Let's check if everything is correct:"
      ]
    },
    {
      "cell_type": "code",
      "execution_count": null,
      "metadata": {
        "colab": {
          "base_uri": "https://localhost:8080/"
        },
        "id": "CYFNvYmlUAvr",
        "outputId": "a66dbce5-f95b-4eb7-8191-db025a395817"
      },
      "outputs": [
        {
          "output_type": "stream",
          "name": "stdout",
          "text": [
            "5625/5625 [==============================] - 35s 6ms/step - loss: 0.1859 - binary_accuracy: 0.7673\n"
          ]
        },
        {
          "output_type": "execute_result",
          "data": {
            "text/plain": [
              "[0.18585748970508575, 0.767288863658905]"
            ]
          },
          "metadata": {},
          "execution_count": 26
        }
      ],
      "source": [
        "model_batch.evaluate(x_val, np.asarray(y_val), batch_size=n_batch)"
      ]
    },
    {
      "cell_type": "markdown",
      "metadata": {
        "id": "Qo2aS8F7UAvs"
      },
      "source": [
        "<h2 align=\"center\">LSTM Model (Mini-Batch Gradient Descent)</h2>"
      ]
    },
    {
      "cell_type": "markdown",
      "metadata": {
        "id": "3VbAeeOOUAvs"
      },
      "source": [
        "Mini-batch gradient descent is a variation of the gradient descent algorithm that splits the training dataset into small batches that are used to calculate model error and update model coefficients.\n",
        "\n",
        "Mini batch algorithm is the most favorable and widely used algorithm that makes precise and faster results using a batch of `m` training examples. In mini batch algorithm rather than using  the complete data set, in every iteration we use a set of `m` training examples called batch to compute the gradient of the cost function. Common mini-batch sizes range between 32 and 256."
      ]
    },
    {
      "cell_type": "markdown",
      "metadata": {
        "id": "xu8ESwoCUAvt"
      },
      "source": [
        "<h3 align=\"center\">Setting Up and Creating the Network</h3>\n",
        "\n",
        "We will use an LSTM network fit for 20 epochs and with batch size = 128.\n",
        "\n",
        "A mean squared error optimization function is used for this problem with the efficient ADAM optimization algorithm.\n",
        "\n",
        "So now let's configure and create the network:"
      ]
    },
    {
      "cell_type": "code",
      "execution_count": null,
      "metadata": {
        "id": "DeoBOnWMUAvt",
        "outputId": "e1dadf0a-b701-4f43-8e3d-2d1542cbbb37",
        "colab": {
          "base_uri": "https://localhost:8080/"
        }
      },
      "outputs": [
        {
          "output_type": "stream",
          "name": "stdout",
          "text": [
            "Model: \"sequential\"\n",
            "_________________________________________________________________\n",
            " Layer (type)                Output Shape              Param #   \n",
            "=================================================================\n",
            " lstm (LSTM)                 (None, 128)               219648    \n",
            "                                                                 \n",
            " dense (Dense)               (None, 1)                 129       \n",
            "                                                                 \n",
            "=================================================================\n",
            "Total params: 219,777\n",
            "Trainable params: 219,777\n",
            "Non-trainable params: 0\n",
            "_________________________________________________________________\n",
            "None\n"
          ]
        }
      ],
      "source": [
        "# configure network\n",
        "n_neurons = 128\n",
        "n_epoch = 20\n",
        "n_batch = 128\n",
        "\n",
        "# design network\n",
        "model_mini = Sequential()\n",
        "model_mini.add(LSTM(n_neurons, input_shape=(x.shape[1], x.shape[2])))\n",
        "model_mini.add(Dense(1, activation='sigmoid'))\n",
        "model_mini.compile(loss='mean_squared_error', optimizer='adam', metrics=['binary_accuracy'])\n",
        "\n",
        "print(model_mini.summary())"
      ]
    },
    {
      "cell_type": "code",
      "execution_count": null,
      "metadata": {
        "id": "n6-fVhTrUAvu",
        "outputId": "4ac25462-5d24-4348-f1b5-ef1a1bb0d170",
        "colab": {
          "base_uri": "https://localhost:8080/"
        }
      },
      "outputs": [
        {
          "output_type": "stream",
          "name": "stdout",
          "text": [
            "Epoch 1/20\n",
            "132/132 [==============================] - 30s 211ms/step - loss: 0.1943 - binary_accuracy: 0.6979\n",
            "Epoch 2/20\n",
            "132/132 [==============================] - 29s 216ms/step - loss: 0.1313 - binary_accuracy: 0.8207\n",
            "Epoch 3/20\n",
            "132/132 [==============================] - 42s 323ms/step - loss: 0.1052 - binary_accuracy: 0.8640\n",
            "Epoch 4/20\n",
            "132/132 [==============================] - 37s 282ms/step - loss: 0.0825 - binary_accuracy: 0.8991\n",
            "Epoch 5/20\n",
            "132/132 [==============================] - 35s 268ms/step - loss: 0.0666 - binary_accuracy: 0.9215\n",
            "Epoch 6/20\n",
            "132/132 [==============================] - 31s 235ms/step - loss: 0.0512 - binary_accuracy: 0.9419\n",
            "Epoch 7/20\n",
            "132/132 [==============================] - 49s 372ms/step - loss: 0.0411 - binary_accuracy: 0.9538\n",
            "Epoch 8/20\n",
            "132/132 [==============================] - 32s 238ms/step - loss: 0.0364 - binary_accuracy: 0.9591\n",
            "Epoch 9/20\n",
            "132/132 [==============================] - 28s 209ms/step - loss: 0.0346 - binary_accuracy: 0.9630\n",
            "Epoch 10/20\n",
            "132/132 [==============================] - 28s 214ms/step - loss: 0.0302 - binary_accuracy: 0.9668\n",
            "Epoch 11/20\n",
            "132/132 [==============================] - 37s 277ms/step - loss: 0.0317 - binary_accuracy: 0.9655\n",
            "Epoch 12/20\n",
            "132/132 [==============================] - 31s 237ms/step - loss: 0.0289 - binary_accuracy: 0.9685\n",
            "Epoch 13/20\n",
            "132/132 [==============================] - 28s 210ms/step - loss: 0.0263 - binary_accuracy: 0.9711\n",
            "Epoch 14/20\n",
            "132/132 [==============================] - 33s 251ms/step - loss: 0.0254 - binary_accuracy: 0.9732\n",
            "Epoch 15/20\n",
            "132/132 [==============================] - 44s 334ms/step - loss: 0.0293 - binary_accuracy: 0.9682\n",
            "Epoch 16/20\n",
            "132/132 [==============================] - 35s 264ms/step - loss: 0.0284 - binary_accuracy: 0.9687\n",
            "Epoch 17/20\n",
            "132/132 [==============================] - 34s 260ms/step - loss: 0.0219 - binary_accuracy: 0.9763\n",
            "Epoch 18/20\n",
            "132/132 [==============================] - 38s 288ms/step - loss: 0.0206 - binary_accuracy: 0.9779\n",
            "Epoch 19/20\n",
            "132/132 [==============================] - 28s 211ms/step - loss: 0.0214 - binary_accuracy: 0.9765\n",
            "Epoch 20/20\n",
            "132/132 [==============================] - 28s 210ms/step - loss: 0.0252 - binary_accuracy: 0.9726\n"
          ]
        }
      ],
      "source": [
        "model_mini_hist = model_mini.fit(x_train, np.asarray(y_train), batch_size=n_batch, epochs=n_epoch, verbose=1)"
      ]
    },
    {
      "cell_type": "code",
      "execution_count": null,
      "metadata": {
        "id": "ZMMLXNMgUAvu",
        "outputId": "aa447d3b-388b-43cb-a1f8-f9414d9c3d67",
        "colab": {
          "base_uri": "https://localhost:8080/"
        }
      },
      "outputs": [
        {
          "output_type": "stream",
          "name": "stdout",
          "text": [
            "44/44 [==============================] - 4s 86ms/step - loss: 0.1847 - binary_accuracy: 0.7820\n",
            "\n",
            "Model Accuracy: 78.2%\n"
          ]
        }
      ],
      "source": [
        "model_mini_score = model_mini.evaluate(x_val, np.asarray(y_val), batch_size=n_batch)\n",
        "print(\"\\nModel Accuracy:\",str(round(model_mini_score[1] * 100, 2)) + '%')"
      ]
    },
    {
      "cell_type": "code",
      "execution_count": null,
      "metadata": {
        "id": "J-wkvW0IUAvv",
        "outputId": "21ea2bcd-27ae-4211-a616-b7bffacc2b77",
        "colab": {
          "base_uri": "https://localhost:8080/",
          "height": 295
        }
      },
      "outputs": [
        {
          "output_type": "display_data",
          "data": {
            "text/plain": [
              "<Figure size 432x288 with 1 Axes>"
            ],
            "image/png": "[encoded data removed]"
          },
          "metadata": {
            "needs_background": "light"
          }
        }
      ],
      "source": [
        "plt.plot(model_mini_hist.history['loss'])\n",
        "\n",
        "plt.title('Model Loss')\n",
        "plt.ylabel('Loss')\n",
        "plt.xlabel('Epoch')\n",
        "plt.legend(['Train'], loc='lower left')\n",
        "\n",
        "plt.show()"
      ]
    },
    {
      "cell_type": "markdown",
      "metadata": {
        "id": "GEqsC9KlUAvw"
      },
      "source": [
        "This is a good value for the model, we can use it. Let's save our model:"
      ]
    },
    {
      "cell_type": "code",
      "execution_count": null,
      "metadata": {
        "id": "dkgO64lLUAvw"
      },
      "outputs": [],
      "source": [
        "model_mini.save('models/LSTM-Mini-Batch-Model.h5')  # save model\n",
        "del model_mini  # delete existing model"
      ]
    },
    {
      "cell_type": "code",
      "source": [
        "# returns a compiled model, identical to the previous one\n",
        "model_mini = load_model('models/LSTM-Mini-Batch-Model.h5')"
      ],
      "metadata": {
        "id": "B1-OiFG1YPYr"
      },
      "execution_count": 21,
      "outputs": []
    },
    {
      "cell_type": "markdown",
      "metadata": {
        "id": "TzLZXiV_UAvx"
      },
      "source": [
        "Let's check if everything is correct:"
      ]
    },
    {
      "cell_type": "code",
      "execution_count": null,
      "metadata": {
        "id": "IonSQZhuUAvx",
        "outputId": "864fa836-7c49-4fb1-8561-a2b1fc860540",
        "colab": {
          "base_uri": "https://localhost:8080/"
        }
      },
      "outputs": [
        {
          "output_type": "stream",
          "name": "stdout",
          "text": [
            "44/44 [==============================] - 4s 87ms/step - loss: 0.1847 - binary_accuracy: 0.7820\n"
          ]
        },
        {
          "output_type": "execute_result",
          "data": {
            "text/plain": [
              "[0.18470309674739838, 0.7820444703102112]"
            ]
          },
          "metadata": {},
          "execution_count": 26
        }
      ],
      "source": [
        "model_mini.evaluate(x_val, np.asarray(y_val), batch_size=n_batch)"
      ]
    },
    {
      "cell_type": "markdown",
      "metadata": {
        "id": "aOj5rNBfUAvz"
      },
      "source": [
        "<h2 align=\"center\">Stacked LSTM Layers</h2>\n",
        "\n",
        "Now we will try the model with a 3 stacked LSTM layers:"
      ]
    },
    {
      "cell_type": "code",
      "execution_count": null,
      "metadata": {
        "id": "wnJQBxZTUAvz",
        "outputId": "b26f075c-d786-48e5-962f-170274b19005",
        "colab": {
          "base_uri": "https://localhost:8080/"
        }
      },
      "outputs": [
        {
          "output_type": "stream",
          "name": "stdout",
          "text": [
            "Model: \"sequential\"\n",
            "_________________________________________________________________\n",
            " Layer (type)                Output Shape              Param #   \n",
            "=================================================================\n",
            " lstm (LSTM)                 (None, 50, 100)           160400    \n",
            "                                                                 \n",
            " lstm_1 (LSTM)               (None, 50, 32)            17024     \n",
            "                                                                 \n",
            " lstm_2 (LSTM)               (None, 32)                8320      \n",
            "                                                                 \n",
            " dense (Dense)               (None, 1)                 33        \n",
            "                                                                 \n",
            "=================================================================\n",
            "Total params: 185,777\n",
            "Trainable params: 185,777\n",
            "Non-trainable params: 0\n",
            "_________________________________________________________________\n",
            "None\n"
          ]
        }
      ],
      "source": [
        "# configure network\n",
        "n_neurons = 100\n",
        "n_epoch = 20\n",
        "n_batch = 128\n",
        "\n",
        "# design network\n",
        "model3L = Sequential()\n",
        "\n",
        "model3L.add(LSTM(n_neurons, return_sequences=True, input_shape=(x.shape[1], x.shape[2])))\n",
        "model3L.add(LSTM(32, return_sequences=True))  # returns a sequence of vectors of dimension 32\n",
        "model3L.add(LSTM(32))  # return a single vector of dimension 32\n",
        "\n",
        "model3L.add(Dense(1, activation='sigmoid'))\n",
        "model3L.compile(loss='mean_squared_error', optimizer='adam', metrics=['binary_accuracy'])\n",
        "\n",
        "print(model3L.summary())"
      ]
    },
    {
      "cell_type": "code",
      "execution_count": null,
      "metadata": {
        "id": "BDNLjOJYUAv0",
        "outputId": "296c34e2-4aad-4928-92b5-37fc1e8682e8",
        "colab": {
          "base_uri": "https://localhost:8080/"
        }
      },
      "outputs": [
        {
          "output_type": "stream",
          "name": "stdout",
          "text": [
            "Epoch 1/20\n",
            "132/132 [==============================] - 35s 261ms/step - loss: 0.1186 - binary_accuracy: 0.8389\n",
            "Epoch 2/20\n",
            "132/132 [==============================] - 33s 250ms/step - loss: 0.0980 - binary_accuracy: 0.8724\n",
            "Epoch 3/20\n",
            "132/132 [==============================] - 32s 245ms/step - loss: 0.0821 - binary_accuracy: 0.8949\n",
            "Epoch 4/20\n",
            "132/132 [==============================] - 33s 252ms/step - loss: 0.0657 - binary_accuracy: 0.9194\n",
            "Epoch 5/20\n",
            "132/132 [==============================] - 33s 248ms/step - loss: 0.0516 - binary_accuracy: 0.9393\n",
            "Epoch 6/20\n",
            "132/132 [==============================] - 32s 245ms/step - loss: 0.0472 - binary_accuracy: 0.9443\n",
            "Epoch 7/20\n",
            "132/132 [==============================] - 33s 250ms/step - loss: 0.0416 - binary_accuracy: 0.9512\n",
            "Epoch 8/20\n",
            "132/132 [==============================] - 32s 245ms/step - loss: 0.0369 - binary_accuracy: 0.9585\n",
            "Epoch 9/20\n",
            "132/132 [==============================] - 32s 244ms/step - loss: 0.0358 - binary_accuracy: 0.9583\n",
            "Epoch 10/20\n",
            "132/132 [==============================] - 32s 245ms/step - loss: 0.0304 - binary_accuracy: 0.9656\n",
            "Epoch 11/20\n",
            "132/132 [==============================] - 32s 245ms/step - loss: 0.0282 - binary_accuracy: 0.9688\n",
            "Epoch 12/20\n",
            "132/132 [==============================] - 32s 245ms/step - loss: 0.0262 - binary_accuracy: 0.9708\n",
            "Epoch 13/20\n",
            "132/132 [==============================] - 33s 248ms/step - loss: 0.0243 - binary_accuracy: 0.9733\n",
            "Epoch 14/20\n",
            "132/132 [==============================] - 33s 247ms/step - loss: 0.0225 - binary_accuracy: 0.9751\n",
            "Epoch 15/20\n",
            "132/132 [==============================] - 32s 246ms/step - loss: 0.0200 - binary_accuracy: 0.9787\n",
            "Epoch 16/20\n",
            "132/132 [==============================] - 33s 247ms/step - loss: 0.0210 - binary_accuracy: 0.9769\n",
            "Epoch 17/20\n",
            "132/132 [==============================] - 33s 246ms/step - loss: 0.0185 - binary_accuracy: 0.9801\n",
            "Epoch 18/20\n",
            "132/132 [==============================] - 32s 246ms/step - loss: 0.0211 - binary_accuracy: 0.9769\n",
            "Epoch 19/20\n",
            "132/132 [==============================] - 33s 248ms/step - loss: 0.0229 - binary_accuracy: 0.9739\n",
            "Epoch 20/20\n",
            "132/132 [==============================] - 33s 247ms/step - loss: 0.0223 - binary_accuracy: 0.9751\n"
          ]
        }
      ],
      "source": [
        "model3L_hist = model3L.fit(x_train, np.asarray(y_train), batch_size=n_batch, epochs=n_epoch, verbose=1)"
      ]
    },
    {
      "cell_type": "code",
      "execution_count": null,
      "metadata": {
        "id": "xlqt5FW1UAv1",
        "outputId": "d8376769-34c8-4ddf-8ed0-733680e1c7b2",
        "colab": {
          "base_uri": "https://localhost:8080/"
        }
      },
      "outputs": [
        {
          "output_type": "stream",
          "name": "stdout",
          "text": [
            "44/44 [==============================] - 6s 97ms/step - loss: 0.1776 - binary_accuracy: 0.7925\n",
            "\n",
            "Model Accuracy: 79.25%\n"
          ]
        }
      ],
      "source": [
        "model3L_score = model3L.evaluate(x_val, np.asarray(y_val), batch_size=n_batch)\n",
        "print(\"\\nModel Accuracy:\", str(round(model3L_score[1] * 100, 2)) + '%')"
      ]
    },
    {
      "cell_type": "code",
      "execution_count": null,
      "metadata": {
        "id": "DFnp_aHKUAv2",
        "outputId": "7ebcc66f-a10e-4c32-aecd-3980378d0cb5",
        "colab": {
          "base_uri": "https://localhost:8080/",
          "height": 295
        }
      },
      "outputs": [
        {
          "output_type": "display_data",
          "data": {
            "text/plain": [
              "<Figure size 432x288 with 1 Axes>"
            ],
            "image/png": "[encoded data removed]"
          },
          "metadata": {
            "needs_background": "light"
          }
        }
      ],
      "source": [
        "plt.plot(model3L_hist.history['loss'])\n",
        "\n",
        "plt.title('Model Loss')\n",
        "plt.ylabel('Loss')\n",
        "plt.xlabel('Epoch')\n",
        "plt.legend(['Train'], loc='lower left')\n",
        "\n",
        "plt.show()"
      ]
    },
    {
      "cell_type": "markdown",
      "metadata": {
        "id": "NXOzFtS9UAv2"
      },
      "source": [
        "Let's save our model:"
      ]
    },
    {
      "cell_type": "code",
      "execution_count": null,
      "metadata": {
        "id": "TQBHSUWcUAv3"
      },
      "outputs": [],
      "source": [
        "model3L.save('models/LSTM-3L-Model.h5')  # save model\n",
        "del model3L  # delete existing model"
      ]
    },
    {
      "cell_type": "code",
      "source": [
        "# returns a compiled model, identical to the previous one\n",
        "model3L = load_model('models/LSTM-3L-Model.h5')"
      ],
      "metadata": {
        "id": "UW1iX4lWY3QK"
      },
      "execution_count": 22,
      "outputs": []
    },
    {
      "cell_type": "markdown",
      "metadata": {
        "id": "kmrOB9YMUAv4"
      },
      "source": [
        "Let's check if everything is correct:"
      ]
    },
    {
      "cell_type": "code",
      "execution_count": null,
      "metadata": {
        "id": "VDa2MsFuUAv4",
        "outputId": "f7c0ac93-73af-4978-c8ed-721873f4409b",
        "colab": {
          "base_uri": "https://localhost:8080/"
        }
      },
      "outputs": [
        {
          "output_type": "stream",
          "name": "stdout",
          "text": [
            "44/44 [==============================] - 7s 136ms/step - loss: 0.1776 - binary_accuracy: 0.7925\n"
          ]
        },
        {
          "output_type": "execute_result",
          "data": {
            "text/plain": [
              "[0.177640900015831, 0.7925333380699158]"
            ]
          },
          "metadata": {},
          "execution_count": 27
        }
      ],
      "source": [
        "model3L.evaluate(x_val, np.asarray(y_val), batch_size=n_batch)"
      ]
    },
    {
      "cell_type": "markdown",
      "source": [
        "<h2 align=\"center\">Bidirectional LSTM</h2>\n",
        "\n",
        "Bidirectional LSTMs are an extension of traditional LSTMs that can improve model performance on sequence classification problems.\n",
        "\n",
        "In problems where all timesteps of the input sequence are available, Bidirectional LSTMs train two instead of one LSTMs on the input sequence. The first on the input sequence as-is and the second on a reversed copy of the input sequence. This can provide additional context to the network and result in faster and even fuller learning on the problem.\n",
        "\n",
        "The idea of Bidirectional Recurrent Neural Networks (RNNs) is straightforward.\n",
        "\n",
        "It involves duplicating the first recurrent layer in the network so that there are now two layers side-by-side, then providing the input sequence as-is as input to the first layer and providing a reversed copy of the input sequence to the second."
      ],
      "metadata": {
        "id": "7P_6TlCeY8pr"
      }
    },
    {
      "cell_type": "code",
      "source": [
        "from keras.layers.core import Dropout\n",
        "from keras.layers import Bidirectional\n",
        "\n",
        "# configure network\n",
        "n_epoch = 20\n",
        "n_batch = 64\n",
        "\n",
        "# design network\n",
        "model_Bi_LSTM = Sequential()\n",
        "model_Bi_LSTM.add(Bidirectional(LSTM(64, return_sequences=True), input_shape=(x.shape[1], x.shape[2])))\n",
        "model_Bi_LSTM.add(Bidirectional(LSTM(64)))\n",
        "model_Bi_LSTM.add(Dropout(0.5))\n",
        "model_Bi_LSTM.add(Dense(1, activation='sigmoid'))\n",
        "\n",
        "# try using different optimizers and different optimizer configs\n",
        "model_Bi_LSTM.compile('adam', 'binary_crossentropy', metrics=['binary_accuracy'])\n",
        "print(model_Bi_LSTM.summary())"
      ],
      "metadata": {
        "colab": {
          "base_uri": "https://localhost:8080/"
        },
        "id": "zwElja8XZENL",
        "outputId": "3a713c59-59eb-4575-e094-51bb3741e964"
      },
      "execution_count": null,
      "outputs": [
        {
          "output_type": "stream",
          "name": "stdout",
          "text": [
            "Model: \"sequential\"\n",
            "_________________________________________________________________\n",
            " Layer (type)                Output Shape              Param #   \n",
            "=================================================================\n",
            " bidirectional (Bidirectiona  (None, 50, 128)          186880    \n",
            " l)                                                              \n",
            "                                                                 \n",
            " bidirectional_1 (Bidirectio  (None, 128)              98816     \n",
            " nal)                                                            \n",
            "                                                                 \n",
            " dropout (Dropout)           (None, 128)               0         \n",
            "                                                                 \n",
            " dense (Dense)               (None, 1)                 129       \n",
            "                                                                 \n",
            "=================================================================\n",
            "Total params: 285,825\n",
            "Trainable params: 285,825\n",
            "Non-trainable params: 0\n",
            "_________________________________________________________________\n",
            "None\n"
          ]
        }
      ]
    },
    {
      "cell_type": "code",
      "source": [
        "model_Bi_LSTM_hist = model_Bi_LSTM.fit(x_train, np.asarray(y_train), epochs=n_epoch, batch_size=n_batch, verbose=1, validation_data=(x_val, np.asarray(y_val)))"
      ],
      "metadata": {
        "colab": {
          "base_uri": "https://localhost:8080/"
        },
        "id": "J1xZy08-ZFtv",
        "outputId": "8fa01d83-7375-411f-9557-38b2680de5e3"
      },
      "execution_count": null,
      "outputs": [
        {
          "output_type": "stream",
          "name": "stdout",
          "text": [
            "Epoch 1/20\n",
            "264/264 [==============================] - 72s 242ms/step - loss: 0.5121 - binary_accuracy: 0.7432 - val_loss: 0.4397 - val_binary_accuracy: 0.7984\n",
            "Epoch 2/20\n",
            "264/264 [==============================] - 76s 290ms/step - loss: 0.3840 - binary_accuracy: 0.8297 - val_loss: 0.4256 - val_binary_accuracy: 0.8034\n",
            "Epoch 3/20\n",
            "264/264 [==============================] - 63s 239ms/step - loss: 0.3016 - binary_accuracy: 0.8766 - val_loss: 0.4322 - val_binary_accuracy: 0.8107\n",
            "Epoch 4/20\n",
            "264/264 [==============================] - 63s 240ms/step - loss: 0.2179 - binary_accuracy: 0.9155 - val_loss: 0.4585 - val_binary_accuracy: 0.8187\n",
            "Epoch 5/20\n",
            "264/264 [==============================] - 64s 242ms/step - loss: 0.1425 - binary_accuracy: 0.9473 - val_loss: 0.5824 - val_binary_accuracy: 0.8069\n",
            "Epoch 6/20\n",
            "264/264 [==============================] - 64s 244ms/step - loss: 0.0920 - binary_accuracy: 0.9675 - val_loss: 0.6255 - val_binary_accuracy: 0.8089\n",
            "Epoch 7/20\n",
            "264/264 [==============================] - 64s 243ms/step - loss: 0.0770 - binary_accuracy: 0.9719 - val_loss: 0.7419 - val_binary_accuracy: 0.8060\n",
            "Epoch 8/20\n",
            "264/264 [==============================] - 64s 242ms/step - loss: 0.0578 - binary_accuracy: 0.9795 - val_loss: 0.7371 - val_binary_accuracy: 0.8076\n",
            "Epoch 9/20\n",
            "264/264 [==============================] - 63s 241ms/step - loss: 0.0371 - binary_accuracy: 0.9887 - val_loss: 0.8497 - val_binary_accuracy: 0.8126\n",
            "Epoch 10/20\n",
            "264/264 [==============================] - 63s 239ms/step - loss: 0.0362 - binary_accuracy: 0.9881 - val_loss: 0.8730 - val_binary_accuracy: 0.8020\n",
            "Epoch 11/20\n",
            "264/264 [==============================] - 63s 240ms/step - loss: 0.0267 - binary_accuracy: 0.9912 - val_loss: 0.8611 - val_binary_accuracy: 0.7947\n",
            "Epoch 12/20\n",
            "264/264 [==============================] - 63s 239ms/step - loss: 0.0312 - binary_accuracy: 0.9895 - val_loss: 0.9707 - val_binary_accuracy: 0.8089\n",
            "Epoch 13/20\n",
            "264/264 [==============================] - 63s 240ms/step - loss: 0.0275 - binary_accuracy: 0.9903 - val_loss: 1.0035 - val_binary_accuracy: 0.8066\n",
            "Epoch 14/20\n",
            "264/264 [==============================] - 63s 239ms/step - loss: 0.0165 - binary_accuracy: 0.9948 - val_loss: 1.0076 - val_binary_accuracy: 0.8012\n",
            "Epoch 15/20\n",
            "264/264 [==============================] - 63s 239ms/step - loss: 0.0220 - binary_accuracy: 0.9928 - val_loss: 0.9767 - val_binary_accuracy: 0.8020\n",
            "Epoch 16/20\n",
            "264/264 [==============================] - 63s 240ms/step - loss: 0.0327 - binary_accuracy: 0.9882 - val_loss: 1.0082 - val_binary_accuracy: 0.8021\n",
            "Epoch 17/20\n",
            "264/264 [==============================] - 64s 241ms/step - loss: 0.0217 - binary_accuracy: 0.9929 - val_loss: 0.9770 - val_binary_accuracy: 0.8027\n",
            "Epoch 18/20\n",
            "264/264 [==============================] - 63s 239ms/step - loss: 0.0116 - binary_accuracy: 0.9963 - val_loss: 1.1661 - val_binary_accuracy: 0.8117\n",
            "Epoch 19/20\n",
            "264/264 [==============================] - 63s 239ms/step - loss: 0.0131 - binary_accuracy: 0.9950 - val_loss: 1.0535 - val_binary_accuracy: 0.8096\n",
            "Epoch 20/20\n",
            "264/264 [==============================] - 63s 240ms/step - loss: 0.0235 - binary_accuracy: 0.9917 - val_loss: 0.9686 - val_binary_accuracy: 0.7993\n"
          ]
        }
      ]
    },
    {
      "cell_type": "code",
      "source": [
        "model_Bi_LSTM_score = model_Bi_LSTM.evaluate(x_val, np.asarray(y_val), batch_size=n_batch)\n",
        "print(\"\\nModel Accuracy:\",str(round(model_Bi_LSTM_score[1] * 100, 2)) + '%')"
      ],
      "metadata": {
        "colab": {
          "base_uri": "https://localhost:8080/"
        },
        "id": "EFt5Tg70ZLB4",
        "outputId": "6b9a5b49-fb63-4096-9dd6-59a068b91e21"
      },
      "execution_count": null,
      "outputs": [
        {
          "output_type": "stream",
          "name": "stdout",
          "text": [
            "88/88 [==============================] - 6s 72ms/step - loss: 0.9686 - binary_accuracy: 0.7993\n",
            "\n",
            "Model Accuracy: 79.93%\n"
          ]
        }
      ]
    },
    {
      "cell_type": "code",
      "source": [
        "plt.plot(model_Bi_LSTM_hist.history['loss'])\n",
        "plt.plot(model_Bi_LSTM_hist.history['val_loss'])\n",
        "\n",
        "plt.title('Model Loss')\n",
        "plt.ylabel('Loss')\n",
        "plt.xlabel('Epoch')\n",
        "plt.legend(['Train', 'Val'], loc='lower left')\n",
        "\n",
        "plt.show()"
      ],
      "metadata": {
        "colab": {
          "base_uri": "https://localhost:8080/",
          "height": 295
        },
        "id": "f2uJjnDeZL68",
        "outputId": "31134fdc-9183-4883-9631-1cc56db6f52b"
      },
      "execution_count": null,
      "outputs": [
        {
          "output_type": "display_data",
          "data": {
            "text/plain": [
              "<Figure size 432x288 with 1 Axes>"
            ],
            "image/png": "[encoded data removed]"
          },
          "metadata": {
            "needs_background": "light"
          }
        }
      ]
    },
    {
      "cell_type": "code",
      "source": [
        "plt.plot(model_Bi_LSTM_hist.history['binary_accuracy'])\n",
        "plt.plot(model_Bi_LSTM_hist.history['val_binary_accuracy'])\n",
        "\n",
        "plt.title('Model Loss')\n",
        "plt.ylabel('Loss')\n",
        "plt.xlabel('Epoch')\n",
        "plt.legend(['Train', 'Val'], loc='lower left')\n",
        "\n",
        "plt.show()"
      ],
      "metadata": {
        "colab": {
          "base_uri": "https://localhost:8080/",
          "height": 295
        },
        "id": "GZFmgZ8zZPV_",
        "outputId": "525a6a62-ed47-4518-d7f6-47d5ba2d8076"
      },
      "execution_count": null,
      "outputs": [
        {
          "output_type": "display_data",
          "data": {
            "text/plain": [
              "<Figure size 432x288 with 1 Axes>"
            ],
            "image/png": "[encoded data removed]"
          },
          "metadata": {
            "needs_background": "light"
          }
        }
      ]
    },
    {
      "cell_type": "code",
      "source": [
        "model_Bi_LSTM.save('models/LSTM-Bi-Model.h5')  # save model\n",
        "del model_Bi_LSTM  # delete existing model"
      ],
      "metadata": {
        "id": "b70FyN5kZQoY"
      },
      "execution_count": null,
      "outputs": []
    },
    {
      "cell_type": "code",
      "source": [
        "# returns a compiled model, identical to the previous one\n",
        "model_Bi_LSTM = load_model('models/LSTM-Bi-Model.h5')"
      ],
      "metadata": {
        "id": "lH6yewEOZR8c"
      },
      "execution_count": 23,
      "outputs": []
    },
    {
      "cell_type": "markdown",
      "metadata": {
        "id": "av6jpxzJUAv5"
      },
      "source": [
        "<h2 align=\"center\">CNN + LSTM</h2>\n",
        "\n",
        "This approach is based entirely on [this work](https://www.aclweb.org/anthology/P16-2037.pdf). As indicated in the work:\n",
        "\n",
        "<cite>\n",
        "    \n",
        "    Dimensional sentiment analysis aims to recognize continuous numerical values in multiple dimensions such as the valencearousal (VA) space. \n",
        "    \n",
        "    Compared to the categorical approach that focuses on sentiment classification such as binary classification (i.e., positive and negative), the dimensional approach can provide more fine-grained sentiment analysis. This study proposes a regional CNN-LSTM model consisting of two parts: regional CNN and LSTM to predict the VA ratings of texts. \n",
        "   \n",
        "    Unlike a conventional CNN which considers a whole text as input, the proposed regional CNN uses an individual sentence as a region, dividing an input text into several regions such that the useful affective information in each region can be extracted and weighted according to their contribution to the VA prediction. Such regional information is sequentially integrated across regions using LSTM for VA prediction. \n",
        "\n",
        "</cite>\n",
        "\n",
        "In short, word vectors of vocabulary words are trained from a large corpus using the word2vec toolkit. For each given text, the  regional CNN model uses the sentence as a region to divide the text into R-domains, ie r1, ..., ri rj, rk, ..., rR. In each region, useful affective functions can be removed when word vectors pass sequentially through the convolutional layer and the  maxpooling  layer. Then such local (regional) features are sequentially integrated between regions using LSTM to construct a text vector for VA prediction."
      ]
    },
    {
      "cell_type": "code",
      "execution_count": null,
      "metadata": {
        "id": "RLcp2YbBUAv5",
        "outputId": "dc6fa980-bd39-4a38-f20f-35320f927074",
        "colab": {
          "base_uri": "https://localhost:8080/"
        }
      },
      "outputs": [
        {
          "output_type": "stream",
          "name": "stdout",
          "text": [
            "Model: \"sequential_2\"\n",
            "_________________________________________________________________\n",
            " Layer (type)                Output Shape              Param #   \n",
            "=================================================================\n",
            " conv1d_2 (Conv1D)           (None, 50, 128)           153728    \n",
            "                                                                 \n",
            " max_pooling1d_2 (MaxPooling  (None, 16, 128)          0         \n",
            " 1D)                                                             \n",
            "                                                                 \n",
            " bidirectional (Bidirectiona  (None, 16, 128)          98816     \n",
            " l)                                                              \n",
            "                                                                 \n",
            " lstm_3 (LSTM)               (None, 32)                20608     \n",
            "                                                                 \n",
            " dropout_1 (Dropout)         (None, 32)                0         \n",
            "                                                                 \n",
            " dense_2 (Dense)             (None, 1)                 33        \n",
            "                                                                 \n",
            "=================================================================\n",
            "Total params: 273,185\n",
            "Trainable params: 273,185\n",
            "Non-trainable params: 0\n",
            "_________________________________________________________________\n",
            "None\n"
          ]
        }
      ],
      "source": [
        "from keras.layers import Conv1D, MaxPooling1D, Flatten\n",
        "from keras.layers import Bidirectional\n",
        "\n",
        "# configure network\n",
        "n_epoch = 20\n",
        "n_batch = 64\n",
        "\n",
        "# design network\n",
        "model_CNN_LSTM = Sequential()\n",
        "\n",
        "model_CNN_LSTM.add(Conv1D(filters=128, kernel_size=4, input_shape=(x.shape[1], x.shape[2]), padding='same', activation='relu'))\n",
        "model_CNN_LSTM.add(MaxPooling1D(pool_size=3))\n",
        "model_CNN_LSTM.add(Bidirectional(LSTM(64, return_sequences = True)))\n",
        "model_CNN_LSTM.add(LSTM(32, recurrent_dropout = 0.4))\n",
        "model_CNN_LSTM.add(Dropout(0.2))\n",
        "model_CNN_LSTM.add(Dense(1, activation='sigmoid'))\n",
        "\n",
        "model_CNN_LSTM.compile(loss='binary_crossentropy', optimizer='adam', metrics=['binary_accuracy'])\n",
        "\n",
        "print(model_CNN_LSTM.summary())"
      ]
    },
    {
      "cell_type": "code",
      "execution_count": null,
      "metadata": {
        "id": "a3uQzmQsUAv6",
        "outputId": "b3835d7b-1978-435f-8f81-89664e75fe5a",
        "colab": {
          "base_uri": "https://localhost:8080/"
        }
      },
      "outputs": [
        {
          "output_type": "stream",
          "name": "stdout",
          "text": [
            "Epoch 1/20\n",
            "264/264 [==============================] - 34s 102ms/step - loss: 0.5486 - binary_accuracy: 0.7165\n",
            "Epoch 2/20\n",
            "264/264 [==============================] - 28s 105ms/step - loss: 0.4245 - binary_accuracy: 0.8054\n",
            "Epoch 3/20\n",
            "264/264 [==============================] - 28s 105ms/step - loss: 0.3418 - binary_accuracy: 0.8536\n",
            "Epoch 4/20\n",
            "264/264 [==============================] - 27s 102ms/step - loss: 0.2504 - binary_accuracy: 0.9016\n",
            "Epoch 5/20\n",
            "264/264 [==============================] - 27s 102ms/step - loss: 0.1758 - binary_accuracy: 0.9352\n",
            "Epoch 6/20\n",
            "264/264 [==============================] - 27s 102ms/step - loss: 0.1236 - binary_accuracy: 0.9575\n",
            "Epoch 7/20\n",
            "264/264 [==============================] - 28s 105ms/step - loss: 0.0946 - binary_accuracy: 0.9681\n",
            "Epoch 8/20\n",
            "264/264 [==============================] - 27s 103ms/step - loss: 0.0805 - binary_accuracy: 0.9723\n",
            "Epoch 9/20\n",
            "264/264 [==============================] - 27s 103ms/step - loss: 0.0592 - binary_accuracy: 0.9799\n",
            "Epoch 10/20\n",
            "264/264 [==============================] - 27s 103ms/step - loss: 0.0571 - binary_accuracy: 0.9819\n",
            "Epoch 11/20\n",
            "264/264 [==============================] - 28s 105ms/step - loss: 0.0529 - binary_accuracy: 0.9828\n",
            "Epoch 12/20\n",
            "264/264 [==============================] - 27s 103ms/step - loss: 0.0394 - binary_accuracy: 0.9877\n",
            "Epoch 13/20\n",
            "264/264 [==============================] - 30s 112ms/step - loss: 0.0404 - binary_accuracy: 0.9867\n",
            "Epoch 14/20\n",
            "264/264 [==============================] - 27s 103ms/step - loss: 0.0497 - binary_accuracy: 0.9825\n",
            "Epoch 15/20\n",
            "264/264 [==============================] - 27s 103ms/step - loss: 0.0330 - binary_accuracy: 0.9902\n",
            "Epoch 16/20\n",
            "264/264 [==============================] - 27s 103ms/step - loss: 0.0357 - binary_accuracy: 0.9877\n",
            "Epoch 17/20\n",
            "264/264 [==============================] - 27s 103ms/step - loss: 0.0382 - binary_accuracy: 0.9874\n",
            "Epoch 18/20\n",
            "264/264 [==============================] - 27s 104ms/step - loss: 0.0340 - binary_accuracy: 0.9888\n",
            "Epoch 19/20\n",
            "264/264 [==============================] - 27s 103ms/step - loss: 0.0340 - binary_accuracy: 0.9895\n",
            "Epoch 20/20\n",
            "264/264 [==============================] - 27s 104ms/step - loss: 0.0283 - binary_accuracy: 0.9910\n"
          ]
        }
      ],
      "source": [
        "model_CNN_LSTM_hist = model_CNN_LSTM.fit(x_train, np.asarray(y_train), epochs=n_epoch, batch_size=n_batch, verbose=1)"
      ]
    },
    {
      "cell_type": "code",
      "execution_count": null,
      "metadata": {
        "id": "6Xn1ZX1FUAv7",
        "outputId": "fe68e529-9651-41e4-dde1-3493b5ba2fc1",
        "colab": {
          "base_uri": "https://localhost:8080/"
        }
      },
      "outputs": [
        {
          "output_type": "stream",
          "name": "stdout",
          "text": [
            "88/88 [==============================] - 4s 36ms/step - loss: 1.0092 - binary_accuracy: 0.7858\n",
            "\n",
            "Model Accuracy: 78.58%\n"
          ]
        }
      ],
      "source": [
        "model_CNN_LSTM_score = model_CNN_LSTM.evaluate(x_val, np.asarray(y_val), batch_size=n_batch)\n",
        "print(\"\\nModel Accuracy:\",str(round(model_CNN_LSTM_score[1] * 100, 2)) + '%')"
      ]
    },
    {
      "cell_type": "code",
      "execution_count": null,
      "metadata": {
        "id": "iyGfw-x_UAv7",
        "outputId": "806a0b35-8c32-43c4-cbfc-e52812e21fe1",
        "colab": {
          "base_uri": "https://localhost:8080/",
          "height": 295
        }
      },
      "outputs": [
        {
          "output_type": "display_data",
          "data": {
            "text/plain": [
              "<Figure size 432x288 with 1 Axes>"
            ],
            "image/png": "[encoded data removed]"
          },
          "metadata": {
            "needs_background": "light"
          }
        }
      ],
      "source": [
        "plt.plot(model_CNN_LSTM_hist.history['loss'])\n",
        "\n",
        "plt.title('Model Loss')\n",
        "plt.ylabel('Loss')\n",
        "plt.xlabel('Epoch')\n",
        "plt.legend(['Train'], loc='lower left')\n",
        "\n",
        "plt.show()"
      ]
    },
    {
      "cell_type": "markdown",
      "metadata": {
        "id": "VwaDpGlgUAv8"
      },
      "source": [
        "Let's save our model:"
      ]
    },
    {
      "cell_type": "code",
      "execution_count": null,
      "metadata": {
        "id": "8F65fjrOUAv8"
      },
      "outputs": [],
      "source": [
        "model_CNN_LSTM.save('models/LSTM-CNN-Model.h5')  # save model\n",
        "del model_CNN_LSTM  # delete existing model"
      ]
    },
    {
      "cell_type": "code",
      "source": [
        "# returns a compiled model, identical to the previous one\n",
        "model_CNN_LSTM = load_model('models/LSTM-CNN-Model.h5')"
      ],
      "metadata": {
        "id": "bY795DW7aSSW"
      },
      "execution_count": 24,
      "outputs": []
    },
    {
      "cell_type": "markdown",
      "metadata": {
        "id": "Q-J5xACQUAv9"
      },
      "source": [
        "<h3 align=\"center\">Testing</h3>"
      ]
    },
    {
      "cell_type": "markdown",
      "metadata": {
        "id": "wtQJDhyRUAv-"
      },
      "source": [
        "Let's try to check the test data with all but one of the test examples to see if the model can predict it:"
      ]
    },
    {
      "cell_type": "code",
      "execution_count": 33,
      "metadata": {
        "id": "RqRsML2oUAv-",
        "outputId": "833f4a23-9721-4817-807e-8cb60a462b0a",
        "colab": {
          "base_uri": "https://localhost:8080/"
        }
      },
      "outputs": [
        {
          "output_type": "stream",
          "name": "stdout",
          "text": [
            "Length of test data (except 1): 7499\n"
          ]
        }
      ],
      "source": [
        "print(\"Length of test data (except 1):\", len(x_test[:-1]))"
      ]
    },
    {
      "cell_type": "code",
      "execution_count": 34,
      "metadata": {
        "id": "DUkLTUycUAv-",
        "outputId": "c22593b6-148d-4896-fcab-d57fe9da14f0",
        "colab": {
          "base_uri": "https://localhost:8080/"
        }
      },
      "outputs": [
        {
          "output_type": "stream",
          "name": "stdout",
          "text": [
            "235/235 [==============================] - 6s 21ms/step - loss: 0.4305 - binary_accuracy: 0.9059\n",
            "[0.4304787218570709, 0.9058541059494019]\n"
          ]
        }
      ],
      "source": [
        "score_test = model_CNN_LSTM.evaluate(x_test[:-1], np.asarray(y_test[:-1]))\n",
        "print(score_test)"
      ]
    },
    {
      "cell_type": "code",
      "execution_count": 35,
      "metadata": {
        "id": "s244cTtsUAv_",
        "outputId": "6f98d594-32d9-4080-9313-1f80e29e1c4b",
        "colab": {
          "base_uri": "https://localhost:8080/"
        }
      },
      "outputs": [
        {
          "output_type": "stream",
          "name": "stdout",
          "text": [
            "1/1 [==============================] - 0s 43ms/step - loss: 0.0015 - binary_accuracy: 1.0000\n",
            "[0.00153376127127558, 1.0]\n"
          ]
        }
      ],
      "source": [
        "score_test_one = model_CNN_LSTM.evaluate(x_test[-1:], np.asarray(y_test[-1:]))\n",
        "print(score_test_one)"
      ]
    },
    {
      "cell_type": "code",
      "execution_count": 36,
      "metadata": {
        "id": "nONPOUPSUAv_",
        "outputId": "5a9d4e0d-ccbb-4e38-de94-1e8cbfd760b2",
        "colab": {
          "base_uri": "https://localhost:8080/"
        }
      },
      "outputs": [
        {
          "output_type": "stream",
          "name": "stdout",
          "text": [
            "[[0]\n",
            " [1]\n",
            " [1]\n",
            " ...\n",
            " [0]\n",
            " [0]\n",
            " [0]]\n"
          ]
        }
      ],
      "source": [
        "predict_test = (model_CNN_LSTM.predict(x_test[:-1]) > 0.5).astype(\"int32\")\n",
        "print(predict_test)"
      ]
    },
    {
      "cell_type": "code",
      "execution_count": 37,
      "metadata": {
        "id": "-731qOryUAwA"
      },
      "outputs": [],
      "source": [
        "predict_test_one = (model_CNN_LSTM.predict(x_test[-1:]) > 0.5).astype(\"int32\")"
      ]
    },
    {
      "cell_type": "code",
      "execution_count": 38,
      "metadata": {
        "id": "hE3ZtOhjUAwA",
        "outputId": "e1d3114a-c4a0-4da4-f9f8-4358cede44ba",
        "colab": {
          "base_uri": "https://localhost:8080/"
        }
      },
      "outputs": [
        {
          "output_type": "stream",
          "name": "stdout",
          "text": [
            "Predicted value: 1 \n",
            "Actual value: 1\n"
          ]
        }
      ],
      "source": [
        "print(\"Predicted value:\", predict_test_one[0][0], \"\\nActual value:\", y_test[-1:][0])"
      ]
    },
    {
      "cell_type": "markdown",
      "metadata": {
        "id": "aeY1BnFPUAwB"
      },
      "source": [
        "Prediction works great, now let's visualize the data."
      ]
    },
    {
      "cell_type": "markdown",
      "metadata": {
        "id": "xgYEmZemUAwB"
      },
      "source": [
        "<h2 align=\"center\">Visualization of Classification Report</h2>\n",
        "\n",
        "We will need our method from previous part to visualize our data, so we will use them now."
      ]
    },
    {
      "cell_type": "code",
      "execution_count": 27,
      "metadata": {
        "id": "6busKszmUAwB"
      },
      "outputs": [],
      "source": [
        "def plot_classification_report(classification_report, title='Classification Report', cmap='RdBu'):\n",
        "    \n",
        "    lines = classification_report.split('\\n')\n",
        "\n",
        "    classes, plotMat, support, class_names = [], [], [], []\n",
        "    \n",
        "    for line in lines[2 : (len(lines) - 5)]:\n",
        "        t = line.strip().split()\n",
        "        if len(t) < 2: continue\n",
        "        classes.append(t[0])\n",
        "        v = [float(x) for x in t[1: len(t) - 1]]\n",
        "        support.append(int(t[-1]))\n",
        "        class_names.append(t[0])\n",
        "        plotMat.append(v)\n",
        "\n",
        "    xlabel = 'Metrics'\n",
        "    ylabel = 'Classes'\n",
        "    \n",
        "    xticklabels = ['Precision', 'Recall', 'F1-score']\n",
        "    yticklabels = ['{0} ({1})'.format(class_names[idx], sup) for idx, sup  in enumerate(support)]\n",
        "    \n",
        "    figure_width = 25\n",
        "    figure_height = len(class_names) + 7\n",
        "    correct_orientation = False\n",
        "    \n",
        "    heatmap(np.array(plotMat), title, xlabel, ylabel, xticklabels, yticklabels, figure_width, figure_height, correct_orientation, cmap=cmap)"
      ]
    },
    {
      "cell_type": "code",
      "execution_count": 28,
      "metadata": {
        "id": "-tHtC2VQUAwC"
      },
      "outputs": [],
      "source": [
        "def heatmap(AUC, title, xlabel, ylabel, xticklabels, yticklabels, figure_width=40, figure_height=20, correct_orientation=False, cmap='RdBu'):\n",
        "    fig, ax = plt.subplots()\n",
        "    c = ax.pcolor(AUC, edgecolors='k', linestyle='dashed', linewidths=0.2, cmap=cmap)\n",
        "\n",
        "    # put the major ticks at the middle of each cell\n",
        "    ax.set_yticks(np.arange(AUC.shape[0]) + 0.5, minor=False)\n",
        "    ax.set_xticks(np.arange(AUC.shape[1]) + 0.5, minor=False)\n",
        "\n",
        "    # set tick labels\n",
        "    ax.set_xticklabels(xticklabels, minor=False)\n",
        "    ax.set_yticklabels(yticklabels, minor=False)\n",
        "\n",
        "    # set title and x/y labels\n",
        "    plt.title(title)\n",
        "    plt.xlabel(xlabel)\n",
        "    plt.ylabel(ylabel)      \n",
        "\n",
        "    # remove last blank column\n",
        "    plt.xlim( (0, AUC.shape[1]) )\n",
        "\n",
        "    # turn off all the ticks\n",
        "    ax = plt.gca()    \n",
        "    for t in ax.xaxis.get_major_ticks():\n",
        "        t.tick1line.set_visible = False\n",
        "        t.tick2line.set_visible = False\n",
        "    for t in ax.yaxis.get_major_ticks():\n",
        "        t.tick1line.set_visible = False\n",
        "        t.tick2line.set_visible = False\n",
        "\n",
        "    # add color bar\n",
        "    plt.colorbar(c)\n",
        "\n",
        "    # add text in each cell \n",
        "    show_val(c)\n",
        "\n",
        "    # proper orientation (origin at the top left instead of bottom left)\n",
        "    if correct_orientation:\n",
        "        ax.invert_yaxis()\n",
        "        ax.xaxis.tick_top()       \n",
        "\n",
        "    # resize \n",
        "    fig = plt.gcf()\n",
        "    fig.set_size_inches(cm_to_inch(figure_width, figure_height))"
      ]
    },
    {
      "cell_type": "code",
      "execution_count": 29,
      "metadata": {
        "id": "vZnxizJCUAwC"
      },
      "outputs": [],
      "source": [
        "def show_val(pc, fmt=\"%.2f\", **kw):\n",
        "    pc.update_scalarmappable()\n",
        "    ax = pc.axes\n",
        "    for p, color, value in zip(pc.get_paths(), pc.get_facecolors(), pc.get_array()):\n",
        "        x, y = p.vertices[:-2, :].mean(0)\n",
        "        if np.all(color[:3] > 0.5):\n",
        "            color = (0.0, 0.0, 0.0)\n",
        "        else:\n",
        "            color = (1.0, 1.0, 1.0)\n",
        "        ax.text(x, y, fmt % value, ha=\"center\", va=\"center\", color=color, **kw)"
      ]
    },
    {
      "cell_type": "code",
      "execution_count": 30,
      "metadata": {
        "id": "RX_DtRg-UAwD"
      },
      "outputs": [],
      "source": [
        "def cm_to_inch(*dim):\n",
        "    inch = 2.54\n",
        "    return tuple(i/inch for i in dim[0]) if type(dim[0]) == tuple else tuple(i/inch for i in dim)"
      ]
    },
    {
      "cell_type": "markdown",
      "metadata": {
        "id": "LWLefyJHUAwD"
      },
      "source": [
        "<h2 align=\"center\">Comparison of Models</h2> \n",
        "\n",
        "A useful tool when predicting the probability of a binary outcome is the Receiver Operating Characteristic curve, or ROC curve.\n",
        "\n",
        "It is a plot of the false positive rate (x-axis) versus the true positive rate (y-axis) for a number of different candidate threshold values between 0.0 and 1.0. Put another way, it plots the false alarm rate versus the hit rate.\n",
        "\n",
        "The true positive rate is calculated as the number of true positives divided by the sum of the number of true positives and the number of false negatives. It describes how good the model is at predicting the positive class when the actual outcome is positive.\n",
        "\n",
        "The false positive rate is calculated as the number of false positives divided by the sum of the number of false positives and the number of true negatives.\n",
        "\n",
        "It is also called the false alarm rate as it summarizes how often a positive class is predicted when the actual outcome is negative.\n",
        "\n",
        "To make this clear:\n",
        "* Smaller values on the x-axis of the plot indicate lower false positives and higher true negatives.\n",
        "* Larger values on the y-axis of the plot indicate higher true positives and lower false negatives."
      ]
    },
    {
      "cell_type": "code",
      "execution_count": 31,
      "metadata": {
        "id": "EZq-3kksUAwE",
        "outputId": "c50aaf3b-17d8-41ab-e589-f6086beab730",
        "colab": {
          "base_uri": "https://localhost:8080/",
          "height": 445
        }
      },
      "outputs": [
        {
          "output_type": "stream",
          "name": "stdout",
          "text": [
            "Classification Report LSTM Stochastic Gradient Descent Model:\n",
            "               precision    recall  f1-score   support\n",
            "\n",
            "           0       0.84      0.90      0.87      3744\n",
            "           1       0.89      0.83      0.86      3756\n",
            "\n",
            "    accuracy                           0.87      7500\n",
            "   macro avg       0.87      0.87      0.87      7500\n",
            "weighted avg       0.87      0.87      0.87      7500\n",
            "\n"
          ]
        },
        {
          "output_type": "display_data",
          "data": {
            "text/plain": [
              "<Figure size 708.661x255.118 with 2 Axes>"
            ],
            "image/png": "[encoded data removed]"
          },
          "metadata": {
            "needs_background": "light"
          }
        }
      ],
      "source": [
        "from sklearn.metrics import classification_report\n",
        "\n",
        "batch_prediction = (model_batch.predict(x_test) > 0.5).astype(\"int32\")\n",
        "print('Classification Report LSTM Stochastic Gradient Descent Model:\\n', classification_report(y_test, batch_prediction))\n",
        "\n",
        "plot_classification_report(classification_report(y_test, batch_prediction), title='LSTM Stochastic Gradient Descent Classification Report', cmap='RdBu')"
      ]
    },
    {
      "cell_type": "code",
      "execution_count": 32,
      "metadata": {
        "id": "CQ-miZUdUAwF",
        "outputId": "32129e17-1324-4677-81f6-b72b16531137",
        "colab": {
          "base_uri": "https://localhost:8080/",
          "height": 445
        }
      },
      "outputs": [
        {
          "output_type": "stream",
          "name": "stdout",
          "text": [
            "Classification Report LSTM Mini-Batch Model:\n",
            "               precision    recall  f1-score   support\n",
            "\n",
            "           0       0.89      0.89      0.89      3744\n",
            "           1       0.89      0.89      0.89      3756\n",
            "\n",
            "    accuracy                           0.89      7500\n",
            "   macro avg       0.89      0.89      0.89      7500\n",
            "weighted avg       0.89      0.89      0.89      7500\n",
            "\n"
          ]
        },
        {
          "output_type": "display_data",
          "data": {
            "text/plain": [
              "<Figure size 708.661x255.118 with 2 Axes>"
            ],
            "image/png": "[encoded data removed]"
          },
          "metadata": {
            "needs_background": "light"
          }
        }
      ],
      "source": [
        "mini_prediction = (model_mini.predict(x_test) > 0.5).astype(\"int32\")\n",
        "print('Classification Report LSTM Mini-Batch Model:\\n', classification_report(y_test, mini_prediction))\n",
        "\n",
        "plot_classification_report(classification_report(y_test, mini_prediction), title='LSTM Mini-Batch Classification Report', cmap='RdBu')"
      ]
    },
    {
      "cell_type": "code",
      "execution_count": 33,
      "metadata": {
        "id": "EqQEJ4pKUAwF",
        "outputId": "be3b912e-2422-4dea-dfb9-4956752b2eca",
        "colab": {
          "base_uri": "https://localhost:8080/",
          "height": 445
        }
      },
      "outputs": [
        {
          "output_type": "stream",
          "name": "stdout",
          "text": [
            "Classification Report LSTM Stacked Layers Model:\n",
            "               precision    recall  f1-score   support\n",
            "\n",
            "           0       0.92      0.87      0.89      3744\n",
            "           1       0.88      0.92      0.90      3756\n",
            "\n",
            "    accuracy                           0.90      7500\n",
            "   macro avg       0.90      0.90      0.90      7500\n",
            "weighted avg       0.90      0.90      0.90      7500\n",
            "\n"
          ]
        },
        {
          "output_type": "display_data",
          "data": {
            "text/plain": [
              "<Figure size 708.661x255.118 with 2 Axes>"
            ],
            "image/png": "[encoded data removed]"
          },
          "metadata": {
            "needs_background": "light"
          }
        }
      ],
      "source": [
        "stack_layer_prediction = (model3L.predict(x_test) > 0.5).astype(\"int32\")\n",
        "print('Classification Report LSTM Stacked Layers Model:\\n', classification_report(y_test, stack_layer_prediction))\n",
        "\n",
        "plot_classification_report(classification_report(y_test, stack_layer_prediction), title='LSTM Stacked Layers Classification Report', cmap='RdBu')"
      ]
    },
    {
      "cell_type": "code",
      "source": [
        "lstm_bi_prediction = (model_Bi_LSTM.predict(x_test) > 0.5).astype(\"int32\")\n",
        "print('Classification Report Bidirectional LSTM Model:\\n', classification_report(y_test, lstm_bi_prediction))\n",
        "\n",
        "plot_classification_report(classification_report(y_test, lstm_bi_prediction), title='Bidirectional LSTM Classification Report', cmap='RdBu')"
      ],
      "metadata": {
        "id": "tC135dMAaj1E",
        "colab": {
          "base_uri": "https://localhost:8080/",
          "height": 445
        },
        "outputId": "f44295b4-ecf8-4aca-87e5-54aa665d1d4a"
      },
      "execution_count": 34,
      "outputs": [
        {
          "output_type": "stream",
          "name": "stdout",
          "text": [
            "Classification Report Bidirectional LSTM Model:\n",
            "               precision    recall  f1-score   support\n",
            "\n",
            "           0       0.93      0.89      0.91      3744\n",
            "           1       0.89      0.93      0.91      3756\n",
            "\n",
            "    accuracy                           0.91      7500\n",
            "   macro avg       0.91      0.91      0.91      7500\n",
            "weighted avg       0.91      0.91      0.91      7500\n",
            "\n"
          ]
        },
        {
          "output_type": "display_data",
          "data": {
            "text/plain": [
              "<Figure size 708.661x255.118 with 2 Axes>"
            ],
            "image/png": "[encoded data removed]"
          },
          "metadata": {
            "needs_background": "light"
          }
        }
      ]
    },
    {
      "cell_type": "code",
      "execution_count": 35,
      "metadata": {
        "id": "EeiUobHdUAwG",
        "outputId": "4edbdad8-22f1-4d2f-ad31-5f5904493b3b",
        "colab": {
          "base_uri": "https://localhost:8080/",
          "height": 445
        }
      },
      "outputs": [
        {
          "output_type": "stream",
          "name": "stdout",
          "text": [
            "Classification Report CNN + LSTM Model:\n",
            "               precision    recall  f1-score   support\n",
            "\n",
            "           0       0.91      0.90      0.90      3744\n",
            "           1       0.90      0.91      0.91      3756\n",
            "\n",
            "    accuracy                           0.91      7500\n",
            "   macro avg       0.91      0.91      0.91      7500\n",
            "weighted avg       0.91      0.91      0.91      7500\n",
            "\n"
          ]
        },
        {
          "output_type": "display_data",
          "data": {
            "text/plain": [
              "<Figure size 708.661x255.118 with 2 Axes>"
            ],
            "image/png": "[encoded data removed]"
          },
          "metadata": {
            "needs_background": "light"
          }
        }
      ],
      "source": [
        "lstm_cnn_prediction = (model_CNN_LSTM.predict(x_test) > 0.5).astype(\"int32\")\n",
        "print('Classification Report CNN + LSTM Model:\\n', classification_report(y_test, lstm_cnn_prediction))\n",
        "\n",
        "plot_classification_report(classification_report(y_test, lstm_cnn_prediction), title='CNN + LSTM Classification Report', cmap='RdBu')"
      ]
    },
    {
      "cell_type": "code",
      "execution_count": 25,
      "metadata": {
        "id": "fHMruU4tUAwG"
      },
      "outputs": [],
      "source": [
        "from sklearn import metrics\n",
        "from sklearn.metrics import roc_curve, auc\n",
        "\n",
        "fprB, tprB, thresholdsB = metrics.roc_curve(y_test, model_batch.predict(x_test))\n",
        "fprMB, tprMB, thresholdsMB = metrics.roc_curve(y_test, model_mini.predict(x_test))\n",
        "fpr3L, tpr3L, thresholds3L = metrics.roc_curve(y_test, model3L.predict(x_test))\n",
        "fprBi, tprBi, thresholdsBi = metrics.roc_curve(y_test, model_Bi_LSTM.predict(x_test))\n",
        "fprCNN, tprCNN, thresholdsCNN = metrics.roc_curve(y_test, model_CNN_LSTM.predict(x_test))"
      ]
    },
    {
      "cell_type": "code",
      "execution_count": 26,
      "metadata": {
        "id": "G9lJ49m0UAwH",
        "outputId": "7c830798-945c-44db-c2f2-70d73f77f431",
        "colab": {
          "base_uri": "https://localhost:8080/",
          "height": 350
        }
      },
      "outputs": [
        {
          "output_type": "display_data",
          "data": {
            "text/plain": [
              "<Figure size 576x360 with 1 Axes>"
            ],
            "image/png": "[encoded data removed]"
          },
          "metadata": {
            "needs_background": "light"
          }
        }
      ],
      "source": [
        "linewidth = 2\n",
        "plt.figure(figsize=(8, 5))\n",
        "\n",
        "plt.plot(fprB, tprB, color='#db6114', lw=linewidth, label='ROC Curve LSTM Stochastic GD (AUC = %0.3f)' % auc(fprB, tprB))\n",
        "plt.plot(fprMB, tprMB, color='#1565c0', lw=linewidth, label='ROC Curve LSTM Mini Batch(AUC = %0.3f)' % auc(fprMB, tprMB))\n",
        "plt.plot(fpr3L, tpr3L, color='#2e7d32', lw=linewidth, label='ROC Curve LSTM Stacked Layers (AUC = %0.3f)' % auc(fpr3L, tpr3L))\n",
        "plt.plot(fprBi, tprBi, color='#ffc107', lw=linewidth, label='ROC Curve Bidirectional LSTM (AUC = %0.3f)' % auc(fprBi, tprBi))\n",
        "plt.plot(fprCNN, tprCNN, color='#6557d2', lw=linewidth, label='ROC Curve  CNN + LSTM (AUC = %0.3f)' % auc(fprCNN, tprCNN))\n",
        "plt.plot([0, 1], [0, 1], color='#616161', lw=linewidth, linestyle='--')\n",
        "\n",
        "plt.xlim([0.0, 1.0])\n",
        "plt.ylim([0.0, 1.05])\n",
        "\n",
        "plt.xlabel('False Positive Rate')\n",
        "plt.ylabel('True Positive Rate')\n",
        "plt.title('ROC Curve Plots')\n",
        "plt.legend(loc=\"lower right\")\n",
        "\n",
        "plt.show()"
      ]
    },
    {
      "cell_type": "markdown",
      "metadata": {
        "id": "FbYw2w9EUAwH"
      },
      "source": [
        "As we can see, all models show approximately the same result, but so far the best is the Bidirectional LSTM model (95.8%), so we gonna use it. Here we are finished, then we move on to the development of a web application."
      ]
    }
  ],
  "metadata": {
    "kernelspec": {
      "display_name": "Python 3",
      "language": "python",
      "name": "python3"
    },
    "language_info": {
      "codemirror_mode": {
        "name": "ipython",
        "version": 3
      },
      "file_extension": ".py",
      "mimetype": "text/x-python",
      "name": "python",
      "nbconvert_exporter": "python",
      "pygments_lexer": "ipython3",
      "version": "3.8.2"
    },
    "colab": {
      "name": "Part III - Training and Development of Different LSTM Models.ipynb",
      "provenance": [],
      "collapsed_sections": []
    }
  },
  "nbformat": 4,
  "nbformat_minor": 0
}