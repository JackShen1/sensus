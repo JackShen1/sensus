{
 "cells": [
  {
   "cell_type": "markdown",
   "metadata": {},
   "source": [
    "<h1 align=\"center\">PART II</h1>\n",
    "<h1 align=\"center\">Sentiment Analysis Classifications - Review and Comparison</h1>\n",
    "\n",
    "First, we need to create word vectors. For simplicity, we will use a pretrained Word2Vec model\n",
    "with Ukrainian words-vectors, each of which has a dimension of 300.\n",
    "\n",
    "This sample of word vectors was created on the basis of fiction literature. We chose the lematized version of this model because we already have our sample, which we processed in the previous part, which would fit perfectly here.\n",
    "\n",
    "The model can be found on [this website](https://lang.org.ua/uk/models/).\n",
    "\n",
    "To get started, let's download the necessary libraries:"
   ]
  },
  {
   "cell_type": "code",
   "execution_count": 1,
   "metadata": {},
   "outputs": [
    {
     "name": "stderr",
     "output_type": "stream",
     "text": [
      "/home/jupyter/notebook/jupyterenv/lib/python3.7/site-packages/gensim/similarities/__init__.py:15: UserWarning: The gensim.similarities.levenshtein submodule is disabled, because the optional Levenshtein package <https://pypi.org/project/python-Levenshtein/> is unavailable. Install Levenhstein (e.g. `pip install python-Levenshtein`) to suppress this warning.\n",
      "  warnings.warn(msg)\n"
     ]
    }
   ],
   "source": [
    "import numpy as np\n",
    "import pandas as pd\n",
    "import pickle\n",
    "import gensim, logging\n",
    "import gensim.models.keyedvectors as word2vec\n",
    "import matplotlib.pyplot as plt\n",
    "\n",
    "%matplotlib inline"
   ]
  },
  {
   "cell_type": "markdown",
   "metadata": {},
   "source": [
    "Also let's write a style for alignment in the middle of all graphs, images, etc:"
   ]
  },
  {
   "cell_type": "code",
   "execution_count": 2,
   "metadata": {},
   "outputs": [
    {
     "data": {
      "text/html": [
       "\n",
       "<style>\n",
       ".output_png {\n",
       "    display: table-cell;\n",
       "    text-align: center;\n",
       "    vertical-align: middle;\n",
       "}\n",
       "</style>\n"
      ],
      "text/plain": [
       "<IPython.core.display.HTML object>"
      ]
     },
     "execution_count": 2,
     "metadata": {},
     "output_type": "execute_result"
    }
   ],
   "source": [
    "from IPython.core.display import HTML\n",
    "HTML(\"\"\"\n",
    "<style>\n",
    ".output_png {\n",
    "    display: table-cell;\n",
    "    text-align: center;\n",
    "    vertical-align: middle;\n",
    "}\n",
    "</style>\n",
    "\"\"\")"
   ]
  },
  {
   "cell_type": "markdown",
   "metadata": {},
   "source": [
    "Next, we will load the sample data we processed in the previous part:"
   ]
  },
  {
   "cell_type": "code",
   "execution_count": 3,
   "metadata": {},
   "outputs": [],
   "source": [
    "with open('documents.pql', 'rb') as f:\n",
    "     docs = pickle.load(f)"
   ]
  },
  {
   "cell_type": "code",
   "execution_count": 4,
   "metadata": {},
   "outputs": [
    {
     "name": "stdout",
     "output_type": "stream",
     "text": [
      "Number of documents: 38271\n"
     ]
    }
   ],
   "source": [
    "print(\"Number of documents:\", len(docs))"
   ]
  },
  {
   "cell_type": "markdown",
   "metadata": {},
   "source": [
    "Now we will load our word2vec model. \n",
    "\n",
    "This may take some time, as the model contains 325 250  words, so we will get a 325 250 x 300 embedding matrix that contains all the values of the word vectors."
   ]
  },
  {
   "cell_type": "code",
   "execution_count": 5,
   "metadata": {},
   "outputs": [],
   "source": [
    "model = word2vec.KeyedVectors.load_word2vec_format('ubercorpus.lowercased.lemmatized.word2vec.300d.txt', binary=False)"
   ]
  },
  {
   "cell_type": "markdown",
   "metadata": {},
   "source": [
    "Now let's get a list of all the words from our dictionary:"
   ]
  },
  {
   "cell_type": "code",
   "execution_count": 6,
   "metadata": {},
   "outputs": [],
   "source": [
    "words = list(model.index_to_key)"
   ]
  },
  {
   "cell_type": "markdown",
   "metadata": {},
   "source": [
    "Just to make sure everything is loaded correctly, we can look at the dimensions of the dictionary list and the embedding matrix:"
   ]
  },
  {
   "cell_type": "code",
   "execution_count": 7,
   "metadata": {},
   "outputs": [
    {
     "name": "stdout",
     "output_type": "stream",
     "text": [
      "['в', 'на', 'у', 'і', 'з', 'що', 'не', 'бути', 'до', 'за', 'та', 'це', 'україна', 'який', 'як', 'про', 'рік', 'а', 'він', 'для', 'від', 'свій', 'вони', 'його', 'цей', 'також', 'я', 'ми', 'той', 'й', 'категорія', 'один', 'мати', 'час', 'такий', 'із', 'але', 'могти', 'під', 'рок', 'президент', 'по', 'те', 'вона', 'після', 'сказати', 'країна', 'український', 'інший', 'так'] \n",
      "\n",
      "Total words: 325250 \n",
      "\n",
      "Word-Vectors shape: (325250, 300)\n"
     ]
    }
   ],
   "source": [
    "print(words[:50], \"\\n\\nTotal words:\", len(words), \"\\n\\nWord-Vectors shape:\", model.vectors.shape)"
   ]
  },
  {
   "cell_type": "markdown",
   "metadata": {},
   "source": [
    "We can also find a word like \"гарний\" in our word list and then access the corresponding vector through the embedding matrix:"
   ]
  },
  {
   "cell_type": "code",
   "execution_count": 8,
   "metadata": {},
   "outputs": [
    {
     "name": "stdout",
     "output_type": "stream",
     "text": [
      "[ 4.516500e-02  1.251880e-01  2.108905e+00  1.637814e+00 -4.077700e-02\n",
      "  7.728100e-01 -6.516440e-01  1.463697e+00  3.339670e-01 -6.916780e-01\n",
      " -1.779990e-01  4.337260e-01  7.660550e-01  9.300980e-01 -1.599930e-01\n",
      "  2.290509e+00 -5.549170e-01  6.714390e-01 -4.648900e-02 -2.138202e+00\n",
      "  8.052800e-02  7.673460e-01 -2.694449e+00 -2.138186e+00  6.990550e-01\n",
      " -2.908490e-01 -4.759980e-01 -1.400164e+00 -1.804889e+00 -7.014440e-01\n",
      " -1.354321e+00 -4.605037e+00 -2.812303e+00  1.006020e+00 -4.980150e-01\n",
      "  7.537600e-01 -2.421496e+00  2.177093e+00 -1.282774e+00  2.158463e+00\n",
      "  5.019600e-01 -1.288280e-01 -1.434353e+00  1.179314e+00 -4.570560e-01\n",
      "  1.129010e-01  3.679680e-01  1.147463e+00 -2.718560e-01 -4.053980e-01\n",
      " -1.606960e+00 -1.048291e+00 -1.496587e+00  1.050120e-01 -4.461910e-01\n",
      " -6.268950e-01  1.559451e+00  4.125400e-02 -5.025610e-01 -4.405390e-01\n",
      "  5.498720e-01  6.160980e-01 -1.434053e+00 -3.693590e-01  9.504800e-01\n",
      "  5.033900e-02  6.530420e-01  1.092300e-01  1.099505e+00 -5.173930e-01\n",
      "  4.521600e-01  1.316980e-01 -3.447960e-01 -7.792470e-01  4.075340e-01\n",
      "  2.820041e+00  6.610030e-01  1.821168e+00 -2.971770e-01  2.257176e+00\n",
      " -4.745060e-01  7.594480e-01 -1.059868e+00  4.989820e-01 -6.173830e-01\n",
      " -2.095330e-01 -1.048407e+00  1.104115e+00 -1.824441e+00 -7.781510e-01\n",
      " -1.405824e+00  1.900557e+00  1.561251e+00 -5.875850e-01  6.799540e-01\n",
      " -6.634080e-01 -9.003320e-01  6.962900e-01  3.224510e-01 -8.991510e-01\n",
      " -1.563059e+00 -2.476330e-01  1.111810e+00  1.516762e+00 -4.468200e-02\n",
      "  1.487850e-01  8.789210e-01  5.810020e-01 -2.065040e+00 -1.307946e+00\n",
      "  2.704060e-01 -3.004260e-01  1.676520e-01 -4.670730e-01 -8.944330e-01\n",
      " -8.709880e-01  4.661530e-01  1.457993e+00  1.050520e+00  6.903990e-01\n",
      " -4.668420e-01 -2.977720e-01 -6.520110e-01 -4.240160e-01  1.385360e+00\n",
      " -1.531143e+00 -7.018450e-01 -1.360379e+00 -3.853250e-01 -6.779430e-01\n",
      "  7.717840e-01  2.329505e+00 -3.088810e+00 -5.592070e-01  1.253934e+00\n",
      " -3.597530e-01  2.797611e+00 -1.321196e+00  1.598887e+00 -3.396500e-02\n",
      " -2.289097e+00 -2.030717e+00 -3.379030e-01 -1.262551e+00 -1.726981e+00\n",
      "  1.345031e+00 -9.934130e-01 -5.192000e-02  3.973530e-01 -1.113024e+00\n",
      "  4.641050e-01 -2.380500e-01 -7.213880e-01  1.025990e+00  2.684590e-01\n",
      "  2.634822e+00  3.545000e-03  7.753260e-01 -3.080920e-01  6.404260e-01\n",
      " -2.668700e-01  1.035281e+00  1.010995e+00 -3.801760e-01 -1.426072e+00\n",
      "  1.388289e+00 -2.210900e-02  1.207970e+00  1.500790e-01 -2.480071e+00\n",
      " -1.091718e+00 -6.491920e-01  4.927010e-01 -5.941840e-01 -1.082866e+00\n",
      " -2.401680e-01 -4.719710e-01 -3.661100e-02 -2.696187e+00 -1.971875e+00\n",
      " -1.766649e+00  2.520458e+00 -1.510660e+00  4.006100e-01  1.887000e-01\n",
      "  2.494095e+00  1.282755e+00  5.740700e-01 -4.948240e-01 -1.204628e+00\n",
      " -4.393090e-01 -1.551810e+00 -5.508650e-01  1.180141e+00  5.349000e-01\n",
      " -3.927950e-01  3.057980e-01 -2.361397e+00 -2.555871e+00  3.770730e-01\n",
      " -1.843960e-01  1.260310e+00 -2.991300e-01  1.357152e+00  2.762030e-01\n",
      " -1.426540e-01  2.562699e+00 -2.766109e+00 -6.215030e-01  8.803670e-01\n",
      " -4.308790e-01 -1.505190e-01  1.637587e+00 -3.374747e+00 -2.139150e-01\n",
      " -1.022518e+00 -9.176170e-01 -4.530680e-01 -4.203490e-01 -2.261070e-01\n",
      "  1.221680e-01  2.331910e+00  3.362230e-01  6.551530e-01  1.143581e+00\n",
      " -7.167460e-01  2.392504e+00 -1.617920e-01  8.335320e-01 -8.565140e-01\n",
      "  7.399930e-01  1.845600e-01 -4.017020e-01  2.454532e+00  5.603370e-01\n",
      "  1.802996e+00  6.780390e-01 -2.002757e+00 -9.561370e-01 -7.767850e-01\n",
      "  9.824630e-01 -1.245443e+00  9.280790e-01 -1.547359e+00  2.366216e+00\n",
      " -4.846720e-01  3.108160e-01 -6.243190e-01 -4.067400e-01  5.230150e-01\n",
      "  1.288720e-01 -6.330400e-02  1.113130e-01 -3.313499e+00  8.942980e-01\n",
      "  1.350776e+00  1.687170e-01  1.575140e-01  9.406630e-01 -4.680350e-01\n",
      " -1.198706e+00  7.283940e-01 -9.805220e-01  3.098200e-01  1.521724e+00\n",
      "  8.548450e-01  6.333460e-01  7.915220e-01  7.365100e-02  3.720840e-01\n",
      "  1.694675e+00 -2.111160e-01 -2.955300e-02 -7.750320e-01  2.498540e-01\n",
      " -3.456620e-01  3.002160e-01 -1.370374e+00 -1.828510e+00 -8.564450e-01\n",
      "  8.271900e-02  4.551800e-01  5.323970e-01 -2.781900e-02  1.758917e+00\n",
      "  9.635140e-01  6.156260e-01  1.877432e+00  1.220439e+00 -2.122004e+00\n",
      " -1.924871e+00  1.741680e-01 -6.280090e-01  2.112647e+00 -7.545850e-01\n",
      "  5.964110e-01 -7.919390e-01  5.867780e-01 -2.834060e-01  6.274380e-01]\n"
     ]
    }
   ],
   "source": [
    "print(model['гарний'])"
   ]
  },
  {
   "cell_type": "markdown",
   "metadata": {},
   "source": [
    "<h2 align=\"center\">Word Average Embedding Model</h2>\n",
    "\n",
    "Well, let's start analyzing our vectors. Our first approach will be the **word average embedding model**. \n",
    "\n",
    "The essence of this naive approach is to take the average of all word vectors from a sentence to get one 300-dimensional vector that represents the tone of the whole sentence that we feed the model and try to get some quick result.\n",
    "\n",
    "We didn't have to put a try/except, but even though I cleaned up our sample, there were a couple of hundred words left after the processing that needed to be searched for and removed, such as `жорда`, `дарба`, `еріот`, `енрон`. These are not even words, so their absence will not affect anything."
   ]
  },
  {
   "cell_type": "code",
   "execution_count": 9,
   "metadata": {},
   "outputs": [],
   "source": [
    "def sent_embed(words, docs):\n",
    "    x_sent_embed, y_sent_embed = [], []\n",
    "    count_words, count_non_words = 0, 0  \n",
    "    \n",
    "    # recover the embedding of each sentence with the average of the vector that composes it\n",
    "    # sent - sentence, state - state of the sentence (pos/neg)\n",
    "    for sent, state in docs:\n",
    "        # average embedding of all words in a sentence\n",
    "        sent_embed = []\n",
    "        for word in sent:\n",
    "            try:\n",
    "                # if word is present in the dictionary - add its vector representation\n",
    "                count_words += 1\n",
    "                sent_embed.append(model[word])\n",
    "            except KeyError:\n",
    "                # if word is not in the dictionary - add a zero vector\n",
    "                count_non_words += 1\n",
    "                sent_embed.append([0] * 300)\n",
    "        \n",
    "        # add a sentence vector to the list\n",
    "        x_sent_embed.append(np.mean(sent_embed, axis=0).tolist())\n",
    "        \n",
    "        # add a label to y_sent_embed\n",
    "        if state == 'pos': y_sent_embed.append(1)\n",
    "        elif state == 'neg': y_sent_embed.append(0)\n",
    "            \n",
    "    print(count_non_words, \"out of\", count_words, \"words were not found in the vocabulary.\")\n",
    "    \n",
    "    return x_sent_embed, y_sent_embed"
   ]
  },
  {
   "cell_type": "code",
   "execution_count": 10,
   "metadata": {},
   "outputs": [
    {
     "name": "stdout",
     "output_type": "stream",
     "text": [
      "40358 out of 1560217 words were not found in the vocabulary.\n"
     ]
    }
   ],
   "source": [
    "x, y = sent_embed(words, docs)"
   ]
  },
  {
   "cell_type": "markdown",
   "metadata": {},
   "source": [
    "<h2 align=\"center\">Cosine Similarity</h2>\n",
    "\n",
    "To measure the similarity of 2 words, we need a way to measure the degree of similarity between 2 embedding vectors for these 2 words. Given 2 vectors $u$ and $v$, cosine similarity is determined as follows:\n",
    "\n",
    "$$\\text{cosine_similarity(u, v)} = \\frac {u . v} {||u||_2 ||v||_2} = cos(\\theta)$$\n",
    "\n",
    "where: \n",
    "\n",
    "* $u.v$ - dot product (or inner product) of two vectors;\n",
    "\n",
    "* $||u||_2$ - norm (or length) of the vector $u$;\n",
    "    \n",
    "    * **Note**: norm of $u$ is defined as $ ||u||_2 = \\sqrt{\\sum_{i=1}^{n} u_i^2}$)\n",
    "\n",
    "* $\\theta$ is the angle between $u$ and $v$. \n",
    "\n",
    "This similarity depends on the angle between $u$ and $v$. If $u$ and $v$ are very similar, their cosine similarity will be close to 1; if they are dissimilar, the cosine similarity will take a smaller value. \n",
    "\n",
    "**`cosine_similarity()`** is a method that used to estimate the similarity between word vectors."
   ]
  },
  {
   "cell_type": "code",
   "execution_count": 11,
   "metadata": {},
   "outputs": [],
   "source": [
    "def cosine_similarity(u, v):\n",
    "    \"\"\"\n",
    "    Cosine similarity reflects the degree of similariy between u and v\n",
    "        \n",
    "    Arguments:\n",
    "        u -- a word vector of shape (n,)          \n",
    "        v -- a word vector of shape (n,)\n",
    "\n",
    "    Returns:\n",
    "        cosine_similarity -- the cosine similarity between u and v defined by the formula above.\n",
    "    \"\"\"\n",
    "    \n",
    "    distance = 0.0\n",
    "    \n",
    "    # compute the dot product between u and v\n",
    "    dot = np.dot(u,v)\n",
    "    \n",
    "    # compute the L2 norm of u\n",
    "    norm_u = np.sqrt(sum(u**2))\n",
    "    \n",
    "    # Compute the L2 norm of v\n",
    "    norm_v = np.sqrt(sum(v**2))\n",
    "    \n",
    "    # Compute the cosine similarity defined by formula above\n",
    "    cosine_similarity = dot/(norm_u*norm_v)\n",
    "    \n",
    "    return cosine_similarity"
   ]
  },
  {
   "cell_type": "markdown",
   "metadata": {},
   "source": [
    "<h2 align=\"center\">Split Corpus</h2>"
   ]
  },
  {
   "cell_type": "markdown",
   "metadata": {},
   "source": [
    "Now, for further work, we will divide our corpus for training, testing and development sets:"
   ]
  },
  {
   "cell_type": "code",
   "execution_count": 12,
   "metadata": {},
   "outputs": [],
   "source": [
    "from sklearn.model_selection import train_test_split\n",
    "\n",
    "# train test\n",
    "x_train, x_test, y_train, y_test = train_test_split(x, y, test_size=0.15, random_state=1)\n",
    "\n",
    "# train dev\n",
    "x_train, x_val, y_train, y_val = train_test_split(x_train, y_train, test_size=0.15, random_state=1)"
   ]
  },
  {
   "cell_type": "code",
   "execution_count": 13,
   "metadata": {},
   "outputs": [
    {
     "name": "stdout",
     "output_type": "stream",
     "text": [
      "Length of x_train: 27650 | Length of y_train: 27650\n",
      "Length of x_test:   5741 | Length of y_test:  5741\n",
      "Length of x_val:    4880 | Length of y_val:   4880\n"
     ]
    }
   ],
   "source": [
    "print('Length of x_train:', len(x_train), '| Length of y_train:', len(y_train))\n",
    "print('Length of x_test:  ', len(x_test), '| Length of y_test: ', len(y_test))\n",
    "print('Length of x_val:   ', len(x_val), '| Length of y_val:  ', len(y_val))"
   ]
  },
  {
   "cell_type": "code",
   "execution_count": 14,
   "metadata": {},
   "outputs": [
    {
     "name": "stdout",
     "output_type": "stream",
     "text": [
      "Shape of x_train set: (27650, 300)\n"
     ]
    }
   ],
   "source": [
    "print(\"Shape of x_train set:\", np.array(x_train).shape)"
   ]
  },
  {
   "cell_type": "markdown",
   "metadata": {},
   "source": [
    "<h2 align=\"center\">Visualization of Classification Report</h2>\n",
    "\n",
    "We will need these methods when we start to visualize our data, so we will write them now."
   ]
  },
  {
   "cell_type": "markdown",
   "metadata": {},
   "source": [
    "The following function takes the conclusion of the `classification_report` function as an argument and plots the results ( function is based on [this](https://stackoverflow.com/a/31689645/14467732) solution)."
   ]
  },
  {
   "cell_type": "code",
   "execution_count": 15,
   "metadata": {},
   "outputs": [],
   "source": [
    "def plot_classification_report(classification_report, title='Classification Report', cmap='RdBu'):\n",
    "    \n",
    "    lines = classification_report.split('\\n')\n",
    "\n",
    "    classes, plotMat, support, class_names = [], [], [], []\n",
    "    \n",
    "    for line in lines[2 : (len(lines) - 5)]:\n",
    "        t = line.strip().split()\n",
    "        if len(t) < 2: continue\n",
    "        classes.append(t[0])\n",
    "        v = [float(x) for x in t[1: len(t) - 1]]\n",
    "        support.append(int(t[-1]))\n",
    "        class_names.append(t[0])\n",
    "        plotMat.append(v)\n",
    "\n",
    "    xlabel = 'Metrics'\n",
    "    ylabel = 'Classes'\n",
    "    \n",
    "    xticklabels = ['Precision', 'Recall', 'F1-score']\n",
    "    yticklabels = ['{0} ({1})'.format(class_names[idx], sup) for idx, sup  in enumerate(support)]\n",
    "    \n",
    "    figure_width = 25\n",
    "    figure_height = len(class_names) + 7\n",
    "    correct_orientation = False\n",
    "    \n",
    "    heatmap(np.array(plotMat), title, xlabel, ylabel, xticklabels, yticklabels, figure_width, figure_height, correct_orientation, cmap=cmap)"
   ]
  },
  {
   "cell_type": "markdown",
   "metadata": {},
   "source": [
    "This function is designed to create a heatmap with text in each cell using the matplotlib library (code based on idea from [here](https://stackoverflow.com/a/16124677/14467732)):"
   ]
  },
  {
   "cell_type": "code",
   "execution_count": 16,
   "metadata": {},
   "outputs": [],
   "source": [
    "def heatmap(AUC, title, xlabel, ylabel, xticklabels, yticklabels, figure_width=40, figure_height=20, correct_orientation=False, cmap='RdBu'):\n",
    "    fig, ax = plt.subplots()\n",
    "    c = ax.pcolor(AUC, edgecolors='k', linestyle='dashed', linewidths=0.2, cmap=cmap)\n",
    "\n",
    "    # put the major ticks at the middle of each cell\n",
    "    ax.set_yticks(np.arange(AUC.shape[0]) + 0.5, minor=False)\n",
    "    ax.set_xticks(np.arange(AUC.shape[1]) + 0.5, minor=False)\n",
    "\n",
    "    # set tick labels\n",
    "    ax.set_xticklabels(xticklabels, minor=False)\n",
    "    ax.set_yticklabels(yticklabels, minor=False)\n",
    "\n",
    "    # set title and x/y labels\n",
    "    plt.title(title)\n",
    "    plt.xlabel(xlabel)\n",
    "    plt.ylabel(ylabel)      \n",
    "\n",
    "    # remove last blank column\n",
    "    plt.xlim( (0, AUC.shape[1]) )\n",
    "\n",
    "    # turn off all the ticks\n",
    "    ax = plt.gca()    \n",
    "    for t in ax.xaxis.get_major_ticks():\n",
    "        t.tick1On = False\n",
    "        t.tick2On = False\n",
    "    for t in ax.yaxis.get_major_ticks():\n",
    "        t.tick1On = False\n",
    "        t.tick2On = False\n",
    "\n",
    "    # add color bar\n",
    "    plt.colorbar(c)\n",
    "\n",
    "    # add text in each cell \n",
    "    show_val(c)\n",
    "\n",
    "    # proper orientation (origin at the top left instead of bottom left)\n",
    "    if correct_orientation:\n",
    "        ax.invert_yaxis()\n",
    "        ax.xaxis.tick_top()       \n",
    "\n",
    "    # resize \n",
    "    fig = plt.gcf()\n",
    "    fig.set_size_inches(cm_to_inch(figure_width, figure_height))"
   ]
  },
  {
   "cell_type": "markdown",
   "metadata": {},
   "source": [
    "This function just inserts the text into the cells of the heatmap (idea is taken from [here](https://stackoverflow.com/a/25074150/14467732)):"
   ]
  },
  {
   "cell_type": "code",
   "execution_count": 17,
   "metadata": {},
   "outputs": [],
   "source": [
    "def show_val(pc, fmt=\"%.2f\", **kw):\n",
    "    pc.update_scalarmappable()\n",
    "    ax = pc.axes\n",
    "    for p, color, value in zip(pc.get_paths(), pc.get_facecolors(), pc.get_array()):\n",
    "        x, y = p.vertices[:-2, :].mean(0)\n",
    "        if np.all(color[:3] > 0.5):\n",
    "            color = (0.0, 0.0, 0.0)\n",
    "        else:\n",
    "            color = (1.0, 1.0, 1.0)\n",
    "        ax.text(x, y, fmt % value, ha=\"center\", va=\"center\", color=color, **kw)"
   ]
  },
  {
   "cell_type": "markdown",
   "metadata": {},
   "source": [
    "The last auxiliary function is intended to specify the size of the figure in centimeters in matplotlib, because by default there is only the method `set_size_inches`, therefore, we will convert inches to centimeters and use this method:"
   ]
  },
  {
   "cell_type": "code",
   "execution_count": 18,
   "metadata": {},
   "outputs": [],
   "source": [
    "def cm_to_inch(*dim):\n",
    "    inch = 2.54\n",
    "    return tuple(i/inch for i in dim[0]) if type(dim[0]) == tuple else tuple(i/inch for i in dim)"
   ]
  },
  {
   "cell_type": "markdown",
   "metadata": {},
   "source": [
    "<h2 align=\"center\">KNN Model</h2>\n",
    "\n",
    "The K-nearest neighbors (KNN) algorithm is a type of supervised machine learning algorithms. KNN is extremely easy to implement in its most basic form, and yet performs quite complex classification tasks.  It is a lazy learning algorithm since it doesn't have a specialized training phase. Rather, it uses all of the data for training while classifying a new data point or instance.  KNN is also a non-parametric learning algorithm, which means that it doesn't assume anything about the underlying data.\n",
    "\n",
    "\n",
    "KNN  algorithm simply calculates the distance of a new data point to all other training data points. The distance can be of any type e.g Euclidean or Manhattan etc. It then selects the K-nearest data points, where K can be any integer. Finally it assigns the data point to the class to which the majority of the K data points belong.\n",
    "\n",
    "Now, let's build KNN classifier model.\n",
    "\n",
    "First, we import the `KNeighborsClassifier` module and create KNN classifier object by passing argument number of neighbors in `KNeighborsClassifier()` function. Then, fit our model on the train set using `fit()` and perform prediction on the test set using `predict()`.\n",
    "\n",
    "One way to help find the best value of neighbors is to plot the graph of neighbor value and the corresponding error rate for the dataset. We will plot the mean error for the predicted values of test set for all the neighbor values between 1 and 25.\n",
    "To do so, let's first calculate the mean of error for all the predicted values where neighbor ranges from 1 and 25:"
   ]
  },
  {
   "cell_type": "code",
   "execution_count": 19,
   "metadata": {},
   "outputs": [],
   "source": [
    "from sklearn.neighbors import KNeighborsClassifier\n",
    "\n",
    "error = []\n",
    "\n",
    "# calculating error for neighbor values between 1 and 25\n",
    "for i in range(1, 25):\n",
    "    knn = KNeighborsClassifier(n_neighbors=i)\n",
    "    knn.fit(x_train, y_train)\n",
    "    pred_i = knn.predict(x_test)\n",
    "    error.append(np.mean(pred_i != y_test))"
   ]
  },
  {
   "cell_type": "markdown",
   "metadata": {},
   "source": [
    "The next step is to plot the error values against neighbor values:"
   ]
  },
  {
   "cell_type": "code",
   "execution_count": 20,
   "metadata": {},
   "outputs": [
    {
     "data": {
      "text/plain": [
       "Text(0, 0.5, 'Mean Error')"
      ]
     },
     "execution_count": 20,
     "metadata": {},
     "output_type": "execute_result"
    },
    {
     "data": {
      "image/png": "[encoded data removed]",
      "text/plain": [
       "<Figure size 720x360 with 1 Axes>"
      ]
     },
     "metadata": {
      "needs_background": "light"
     },
     "output_type": "display_data"
    }
   ],
   "source": [
    "plt.figure(figsize=(10, 5))\n",
    "plt.plot(range(1, 25), error, color='black', linestyle='dashed', marker='o', markerfacecolor='green', markersize=10)\n",
    "plt.title('Error Rate Neighbor Value')\n",
    "plt.xlabel('Neighbor Value')\n",
    "plt.ylabel('Mean Error')"
   ]
  },
  {
   "cell_type": "markdown",
   "metadata": {},
   "source": [
    "As we can see, it is best to take k=5, but still mean error a little higher than normal."
   ]
  },
  {
   "cell_type": "code",
   "execution_count": 21,
   "metadata": {},
   "outputs": [
    {
     "name": "stdout",
     "output_type": "stream",
     "text": [
      "Nearest Neighbors Result (k=20):\n",
      "-----------------------------------\n",
      "Accuracy Score (k=20): 72.91%\n",
      "Accuracy (x_train, y_train): 99.99%\n"
     ]
    }
   ],
   "source": [
    "# create KNN Classifier\n",
    "knn = KNeighborsClassifier(n_neighbors=20, weights='distance')\n",
    "\n",
    "# train the classifier using the training sets\n",
    "knn.fit(x_train, y_train)\n",
    "\n",
    "# predict the response for test dataset\n",
    "y_pred = knn.predict(x_test)\n",
    "\n",
    "print(\"Nearest Neighbors Result (k=20):\\n\" + '-' * 35)\n",
    "print(\"Accuracy Score (k=20):\", str(round(knn.score(x_test, y_test), 4) * 100) + '%')\n",
    "print(\"Accuracy (x_train, y_train):\", str(round(knn.score(x_train, y_train), 4) * 100) + '%')"
   ]
  },
  {
   "cell_type": "markdown",
   "metadata": {},
   "source": [
    "The accuracy of the model is good, we can work with it.\n",
    "\n",
    "Now let's explore our KNN Classification results with help of `classification_report` function from sklearn.metrics:"
   ]
  },
  {
   "cell_type": "code",
   "execution_count": 22,
   "metadata": {},
   "outputs": [
    {
     "name": "stdout",
     "output_type": "stream",
     "text": [
      "\n",
      "Classification KNN:\n",
      "               precision    recall  f1-score   support\n",
      "\n",
      "           0       0.73      0.59      0.66      2499\n",
      "           1       0.73      0.83      0.78      3242\n",
      "\n",
      "    accuracy                           0.73      5741\n",
      "   macro avg       0.73      0.71      0.72      5741\n",
      "weighted avg       0.73      0.73      0.72      5741\n",
      "\n"
     ]
    }
   ],
   "source": [
    "from sklearn.metrics import classification_report\n",
    "print('\\nClassification KNN:\\n', classification_report(y_test, knn.predict(x_test)))"
   ]
  },
  {
   "cell_type": "markdown",
   "metadata": {},
   "source": [
    "Now finally let's visualize our classification report:"
   ]
  },
  {
   "cell_type": "code",
   "execution_count": 23,
   "metadata": {},
   "outputs": [
    {
     "data": {
      "image/png": "[encoded data removed]",
      "text/plain": [
       "<Figure size 708.661x255.118 with 2 Axes>"
      ]
     },
     "metadata": {
      "needs_background": "light"
     },
     "output_type": "display_data"
    }
   ],
   "source": [
    "plot_classification_report(classification_report(y_test, knn.predict(x_test)), title='KNN Classification Report')"
   ]
  },
  {
   "cell_type": "markdown",
   "metadata": {},
   "source": [
    "<h2 align=\"center\">Logistic Regression</h2>\n",
    "\n",
    "Logistic Regression is a Machine Learning classification algorithm that is used to predict the probability of a categorical dependent variable. In logistic regression, the dependent variable is a binary variable that contains data coded as 1 (yes, success, etc.) or 0 (no, failure, etc.). In other words, the logistic regression model predicts P(Y=1) as a function of X."
   ]
  },
  {
   "cell_type": "code",
   "execution_count": 24,
   "metadata": {},
   "outputs": [
    {
     "data": {
      "text/plain": [
       "LogisticRegression(multi_class='ovr', n_jobs=1, solver='liblinear')"
      ]
     },
     "execution_count": 24,
     "metadata": {},
     "output_type": "execute_result"
    }
   ],
   "source": [
    "from sklearn.linear_model import LogisticRegression\n",
    "\n",
    "logit = LogisticRegression(solver='liblinear', multi_class='ovr', n_jobs=1)\n",
    "logit.fit(x_train, y_train)"
   ]
  },
  {
   "cell_type": "code",
   "execution_count": 25,
   "metadata": {},
   "outputs": [
    {
     "name": "stdout",
     "output_type": "stream",
     "text": [
      "Accuracy Score: 77.7%\n"
     ]
    }
   ],
   "source": [
    "print(\"Accuracy Score:\", str(round(logit.score(x_test, y_test), 4) * 100) + '%')"
   ]
  },
  {
   "cell_type": "code",
   "execution_count": 26,
   "metadata": {},
   "outputs": [
    {
     "name": "stdout",
     "output_type": "stream",
     "text": [
      "\n",
      "Classification Logistic Regression:\n",
      "               precision    recall  f1-score   support\n",
      "\n",
      "           0       0.76      0.71      0.73      2499\n",
      "           1       0.79      0.83      0.81      3242\n",
      "\n",
      "    accuracy                           0.78      5741\n",
      "   macro avg       0.77      0.77      0.77      5741\n",
      "weighted avg       0.78      0.78      0.78      5741\n",
      "\n"
     ]
    }
   ],
   "source": [
    "print('\\nClassification Logistic Regression:\\n', classification_report(y_test, logit.predict(x_test)))"
   ]
  },
  {
   "cell_type": "markdown",
   "metadata": {},
   "source": [
    "Now let's visualize our classification report:"
   ]
  },
  {
   "cell_type": "code",
   "execution_count": 27,
   "metadata": {},
   "outputs": [
    {
     "data": {
      "image/png": "[encoded data removed]",
      "text/plain": [
       "<Figure size 708.661x255.118 with 2 Axes>"
      ]
     },
     "metadata": {
      "needs_background": "light"
     },
     "output_type": "display_data"
    }
   ],
   "source": [
    "plot_classification_report(classification_report(y_test, logit.predict(x_test)), title='Logistic Regression Classification Report')"
   ]
  },
  {
   "cell_type": "markdown",
   "metadata": {},
   "source": [
    "<h2 align=\"center\">Random Forest Classifier</h2>\n",
    "\n",
    "The Random forest or Random Decision Forest is a supervised Machine learning algorithm used for classification, regression, and other tasks using decision trees.\n",
    "\n",
    "The Random forest classifier creates a set of decision trees from a randomly selected subset of the training set. It is basically a set of decision trees (DT) from a randomly selected subset of the training set and then It collects the votes from different decision trees to decide the final prediction."
   ]
  },
  {
   "cell_type": "code",
   "execution_count": 28,
   "metadata": {},
   "outputs": [
    {
     "name": "stdout",
     "output_type": "stream",
     "text": [
      "Accuracy Score: 75.74%\n"
     ]
    }
   ],
   "source": [
    "from sklearn.ensemble import RandomForestClassifier\n",
    "\n",
    "clf = RandomForestClassifier(n_estimators=100)\n",
    "clf.fit(x_train, y_train)\n",
    "\n",
    "print(\"Accuracy Score:\", str(round(clf.score(x_test,y_test), 4) * 100) + '%')"
   ]
  },
  {
   "cell_type": "code",
   "execution_count": 29,
   "metadata": {},
   "outputs": [
    {
     "name": "stdout",
     "output_type": "stream",
     "text": [
      "\n",
      "Classification Random Forest:\n",
      "               precision    recall  f1-score   support\n",
      "\n",
      "           0       0.77      0.62      0.69      2499\n",
      "           1       0.75      0.86      0.80      3242\n",
      "\n",
      "    accuracy                           0.76      5741\n",
      "   macro avg       0.76      0.74      0.75      5741\n",
      "weighted avg       0.76      0.76      0.75      5741\n",
      "\n"
     ]
    }
   ],
   "source": [
    "print('\\nClassification Random Forest:\\n', classification_report(y_test, clf.predict(x_test)))"
   ]
  },
  {
   "cell_type": "markdown",
   "metadata": {},
   "source": [
    "Now let's visualize our classification report:"
   ]
  },
  {
   "cell_type": "code",
   "execution_count": 30,
   "metadata": {},
   "outputs": [
    {
     "data": {
      "image/png": "[encoded data removed]",
      "text/plain": [
       "<Figure size 708.661x255.118 with 2 Axes>"
      ]
     },
     "metadata": {
      "needs_background": "light"
     },
     "output_type": "display_data"
    }
   ],
   "source": [
    "plot_classification_report(classification_report(y_test, clf.predict(x_test)), title='Random Forest Classification Report')"
   ]
  },
  {
   "cell_type": "markdown",
   "metadata": {},
   "source": [
    "<h2 align=\"center\">SVM Model</h2>\n",
    "\n",
    "Support vector machines (SVMs) are a set of supervised learning methods used for classification, regression and outliers detection.\n",
    "\n",
    "The advantages of support vector machines are:\n",
    "\n",
    "    + Effective in high dimensional spaces.\n",
    "\n",
    "    + Still effective in cases where number of dimensions is greater than the number of samples.\n",
    "\n",
    "    + Uses a subset of training points in the decision function (called support vectors), so it is also memory efficient.\n",
    "\n",
    "    + Versatile: different Kernel functions can be specified for the decision function. Common kernels are provided, but it is also possible to specify custom kernels.\n",
    "\n",
    "The disadvantages of support vector machines include:\n",
    "\n",
    "    - If the number of features is much greater than the number of samples, avoid over-fitting in choosing Kernel functions and regularization term is crucial.\n",
    "\n",
    "    - SVMs do not directly provide probability estimates, these are calculated using an expensive five-fold cross-validation (see Scores and probabilities, below)."
   ]
  },
  {
   "cell_type": "code",
   "execution_count": 31,
   "metadata": {},
   "outputs": [
    {
     "name": "stdout",
     "output_type": "stream",
     "text": [
      "Accuracy Score: 75.05%\n"
     ]
    }
   ],
   "source": [
    "from sklearn import svm\n",
    "\n",
    "SVM = svm.SVC(C=1.0, kernel='linear', degree=3, gamma='auto', probability=True)\n",
    "SVM.fit(x_train, y_train)\n",
    "\n",
    "print(\"Accuracy Score:\", str(round(SVM.score(x_test, y_test), 4) * 100) + '%')"
   ]
  },
  {
   "cell_type": "code",
   "execution_count": 32,
   "metadata": {},
   "outputs": [
    {
     "name": "stdout",
     "output_type": "stream",
     "text": [
      "\n",
      "Classification SVM:\n",
      "               precision    recall  f1-score   support\n",
      "\n",
      "           0       0.75      0.69      0.72      2499\n",
      "           1       0.77      0.82      0.80      3242\n",
      "\n",
      "    accuracy                           0.76      5741\n",
      "   macro avg       0.76      0.75      0.76      5741\n",
      "weighted avg       0.76      0.76      0.76      5741\n",
      "\n"
     ]
    }
   ],
   "source": [
    "print('\\nClassification SVM:\\n', classification_report(y_test, SVM.predict(x_test)))"
   ]
  },
  {
   "cell_type": "code",
   "execution_count": 33,
   "metadata": {},
   "outputs": [
    {
     "data": {
      "image/png": "[encoded data removed]",
      "text/plain": [
       "<Figure size 708.661x255.118 with 2 Axes>"
      ]
     },
     "metadata": {
      "needs_background": "light"
     },
     "output_type": "display_data"
    }
   ],
   "source": [
    "plot_classification_report(classification_report(y_test, SVM.predict(x_test)), title='SVM Classification Report')"
   ]
  },
  {
   "cell_type": "markdown",
   "metadata": {},
   "source": [
    "<h2 align=\"center\">Comparison of Models</h2> \n",
    "\n",
    "A useful tool when predicting the probability of a binary outcome is the Receiver Operating Characteristic curve, or ROC curve.\n",
    "\n",
    "It is a plot of the false positive rate (x-axis) versus the true positive rate (y-axis) for a number of different candidate threshold values between 0.0 and 1.0. Put another way, it plots the false alarm rate versus the hit rate.\n",
    "\n",
    "The true positive rate is calculated as the number of true positives divided by the sum of the number of true positives and the number of false negatives. It describes how good the model is at predicting the positive class when the actual outcome is positive.\n",
    "\n",
    "The false positive rate is calculated as the number of false positives divided by the sum of the number of false positives and the number of true negatives.\n",
    "\n",
    "It is also called the false alarm rate as it summarizes how often a positive class is predicted when the actual outcome is negative.\n",
    "\n",
    "To make this clear:\n",
    "* Smaller values on the x-axis of the plot indicate lower false positives and higher true negatives.\n",
    "* Larger values on the y-axis of the plot indicate higher true positives and lower false negatives."
   ]
  },
  {
   "cell_type": "code",
   "execution_count": 34,
   "metadata": {},
   "outputs": [],
   "source": [
    "from sklearn import metrics\n",
    "from sklearn.metrics import roc_curve, auc\n",
    "\n",
    "fprKNN, tprKNN, thresholdsKNN = metrics.roc_curve(y_test, knn.predict_proba(x_test)[:, 1])\n",
    "fprLR, tprLR, thresholdsLR = metrics.roc_curve(y_test, logit.predict_proba(x_test)[:, 1])\n",
    "fprCLF, tprCLF, thresholdCLF = metrics.roc_curve(y_test, clf.predict_proba(x_test)[:, 1])\n",
    "fprSVM, trpSVM, thresholdSVM = metrics.roc_curve(y_test, SVM.predict_proba(x_test)[:, 1])"
   ]
  },
  {
   "cell_type": "code",
   "execution_count": 35,
   "metadata": {},
   "outputs": [
    {
     "data": {
      "image/png": "[encoded data removed]",
      "text/plain": [
       "<Figure size 576x360 with 1 Axes>"
      ]
     },
     "metadata": {
      "needs_background": "light"
     },
     "output_type": "display_data"
    }
   ],
   "source": [
    "linewidth = 2\n",
    "plt.figure(figsize=(8, 5))\n",
    "\n",
    "plt.plot(fprKNN, tprKNN, color='#db6114', lw=linewidth, label='ROC Curve KNN (AUC = %0.3f)' % auc(fprKNN, tprKNN))\n",
    "plt.plot(fprLR, tprLR, color='#1565c0', lw=linewidth, label='ROC Curve Logistic Regression (AUC = %0.3f)' % auc(fprLR, tprLR))\n",
    "plt.plot(fprCLF, tprCLF, color='#2e7d32',lw=linewidth, label='ROC Curve Random Forest (AUC = %0.3f)' % auc(fprCLF, tprCLF))\n",
    "plt.plot(fprSVM, trpSVM, color='#6557d2',lw=linewidth, label='ROC Curve SVM (AUC = %0.3f)' % auc(fprSVM, trpSVM))\n",
    "plt.plot([0, 1], [0, 1], color='#616161', lw=linewidth, linestyle='--')\n",
    "\n",
    "plt.xlim([0.0, 1.0])\n",
    "plt.ylim([0.0, 1.05])\n",
    "\n",
    "plt.xlabel('False Positive Rate')\n",
    "plt.ylabel('True Positive Rate')\n",
    "plt.title('ROC Curve Plots')\n",
    "plt.legend(loc=\"lower right\")\n",
    "\n",
    "plt.show()"
   ]
  },
  {
   "cell_type": "markdown",
   "metadata": {},
   "source": [
    "Based on these data, we can conclude that the best model so far is a **Logistic Regression Model** with `AUC = 83.6%` and `Accuracy Score = 75.67%`.\n",
    "\n",
    "Let's save this model:"
   ]
  },
  {
   "cell_type": "code",
   "execution_count": 36,
   "metadata": {},
   "outputs": [],
   "source": [
    "with open('LogitModel.pickle', 'wb') as m:\n",
    "    pickle.dump(logit, m)"
   ]
  },
  {
   "cell_type": "markdown",
   "metadata": {},
   "source": [
    "Let's check if everything is loaded correctly:"
   ]
  },
  {
   "cell_type": "code",
   "execution_count": 37,
   "metadata": {},
   "outputs": [
    {
     "name": "stdout",
     "output_type": "stream",
     "text": [
      "Logistic Regression Accuracy Score: 77.7%\n"
     ]
    }
   ],
   "source": [
    "with open('LogitModel.pickle', 'rb') as m:\n",
    "     logit = pickle.load(m)\n",
    "\n",
    "print(\"Logistic Regression Accuracy Score:\", str(round(logit.score(x_test, y_test), 4) * 100) + '%')"
   ]
  },
  {
   "cell_type": "markdown",
   "metadata": {},
   "source": [
    "In the next part we will finally try the **LSTM** neural network, which takes a sequence of words and remembers the order of words in a sentence, this approach should give us the best results."
   ]
  }
 ],
 "metadata": {
  "kernelspec": {
   "display_name": "Python 3",
   "language": "python",
   "name": "python3"
  },
  "language_info": {
   "codemirror_mode": {
    "name": "ipython",
    "version": 3
   },
   "file_extension": ".py",
   "mimetype": "text/x-python",
   "name": "python",
   "nbconvert_exporter": "python",
   "pygments_lexer": "ipython3",
   "version": "3.8.2"
  }
 },
 "nbformat": 4,
 "nbformat_minor": 4
}
