{
 "cells": [
  {
   "cell_type": "markdown",
   "metadata": {},
   "source": [
    "<h1 align=\"center\">Analysis of the Amazon dataset of book reviews</h1>\n",
    "\n",
    "The aim was to process the semantic analysis of Ukrainian texts, so the collection of positive and negative reviews was translated into Ukrainian using Google Translate.\n",
    "\n",
    "To get started, we import all the libraries we need:"
   ]
  },
  {
   "cell_type": "code",
   "execution_count": 1,
   "metadata": {},
   "outputs": [],
   "source": [
    "import os\n",
    "import sklearn\n",
    "import numpy as np\n",
    "import pandas as pd\n",
    "import seaborn as sns\n",
    "import xml.etree.ElementTree as ET\n",
    "\n",
    "%matplotlib inline"
   ]
  },
  {
   "cell_type": "markdown",
   "metadata": {},
   "source": [
    "Next, since our reviews are in XML format, we need to process each line to get the value from the tags.\n",
    "\n",
    "**Note**: \n",
    "* `errors='ignore'`used to skip all possible incorrect characters in our documents;\n",
    "\n",
    "* `readLines` return all lines in the file, as a list where each line is an item in the list object."
   ]
  },
  {
   "cell_type": "code",
   "execution_count": 2,
   "metadata": {},
   "outputs": [
    {
     "name": "stdout",
     "output_type": "stream",
     "text": [
      "<reviews>\n",
      "\n",
      "<review>\n",
      "\n",
      "<unique_id>\n",
      "\n",
      "0375416811: owner_of_chick_lit: erin_oakes_ \"avid_reader\"\n",
      "\n",
      "</unique_id>\n",
      "\n",
      "<unique_id>\n",
      "\n",
      "1521 рік\n",
      "\n",
      "</unique_id>\n",
      "\n",
      "<asin>\n",
      "\n",
      "0375416811\n",
      "\n",
      "</asin>\n",
      "\n",
      "<product_name>\n",
      "\n",
      "Щоденник Бріджит Джонс: Книги: Хелен Філдінг, Трейсі Беннет\n",
      "\n",
      "</product_name>\n",
      "\n",
      "<product_type>\n",
      "\n",
      "книги\n",
      "\n",
      "</product_type>\n",
      "\n",
      "<product_type>\n",
      "\n",
      "книги\n",
      "\n",
      "</product_type>\n",
      "\n",
      "<helpful>\n",
      "\n",
      "\n",
      "\n",
      "</helpful>\n",
      "\n",
      "<rating>\n",
      "\n",
      "5.0\n",
      "\n",
      "</rating>\n",
      "\n",
      "<title>\n",
      "\n",
      "Засновник Чик-літ\n",
      "\n",
      "</title>\n",
      "\n",
      "<date>\n",
      "\n",
      "24 серпня 2006 р\n",
      "\n",
      "</date>\n",
      "\n",
      "<reviewer>\n",
      "\n",
      "Ерін Оукс \"завзятий читач\"\n",
      "\n",
      "</reviewer>\n",
      "\n",
      "<reviewer_location>\n",
      "\n",
      "Центральна ПА\n",
      "\n",
      "</reviewer_location>\n",
      "\n",
      "<review_text>\n",
      "\n",
      "Бріджит Джонс, сучасна жінка, блискуча і не знає цього, схильна до нещасних випадків та безладів, але їм вдається вийти з них.\n",
      "\n",
      "\n",
      "\n",
      "Це книга, яка розпочала все з лихоманки, що запалюється. Бріджит Джонс - мій герой!\n",
      "\n",
      "</review_text>\n",
      "\n",
      "</review>\n",
      "\n",
      "<review>\n",
      "\n",
      "<unique_id>\n",
      "\n",
      "188105201X: відмінний_ресурс_для_принципів!: Onickre@mail.milwaukee.k12.wi.us\n",
      "\n",
      "</unique_id>\n",
      "\n",
      "<unique_id>\n",
      "\n",
      "3294\n",
      "\n",
      "</unique_id>\n",
      "\n",
      "<asin>\n",
      "\n",
      "188105201X\n",
      "\n",
      "</asin>\n",
      "\n",
      "<product_name>\n",
      "\n",
      "Лідерство та нова наука: вивчення організації з упорядкованого Всесвіту: Книги: Маргарет Дж. Уітлі\n",
      "\n",
      "</product_name>\n",
      "\n",
      "<product_type>\n",
      "\n",
      "книги\n",
      "\n",
      "</product_type>\n",
      "\n",
      "<product_type>\n",
      "\n",
      "книги\n",
      "\n",
      "</product_type>\n",
      "\n",
      "<helpful>\n",
      "\n",
      "3 з 3\n",
      "\n",
      "</helpful>\n",
      "\n",
      "<rating>\n",
      "\n",
      "5.0\n",
      "\n",
      "</rating>\n",
      "\n",
      "<title>\n",
      "\n",
      "Чудовий ресурс для директорів!\n",
      "\n",
      "</title>\n",
      "\n",
      "<date>\n",
      "\n",
      "6 липня 1999 р\n",
      "\n",
      "</date>\n",
      "\n",
      "<reviewer>\n",
      "\n",
      "ONICKRE@mail.milwaukee.k12.wi.us\n",
      "\n",
      "</reviewer>\n",
      "\n",
      "<reviewer_location>\n",
      "\n",
      "Мілуокі, штат Вісконсін\n",
      "\n",
      "</reviewer_location>\n",
      "\n",
      "<review_text>\n",
      "\n",
      "Я замовляю копії для всіх 23 директорів середніх шкіл та двох помічників директорів, які ведуть дві програми середньої школи в системі державних шкіл Мілуокі. Ми використовуватимемо книгу Вітлі як основний ресурс для нашого професійного зростання в нашому спільному інституті керівників середньої школи MPS 9-11 серпня 1999 р. Ми не просто зацікавлені в реформах; ми також прагнемо оновлення. Вітлі забезпечує основу. Вона зазначає, що Ейнштейн сказав, що проблему не можна вирішити з тієї самої свідомості, яка її створила. Вся книга є дивовижним дослідженням цієї філософії\n",
      "\n",
      "</review_text>\n",
      "\n",
      "</review>\n",
      "\n"
     ]
    }
   ],
   "source": [
    "testRead = open('data/positive.review', 'r', encoding='utf8', errors='ignore').readlines()\n",
    "for i in range(85):\n",
    "    print(testRead[i])"
   ]
  },
  {
   "cell_type": "markdown",
   "metadata": {},
   "source": [
    "In our directory with training sets we have two files - with positive and negative reviews, each of these files contains 1000 unprocessed reviews. Let's check this:"
   ]
  },
  {
   "cell_type": "code",
   "execution_count": 3,
   "metadata": {},
   "outputs": [
    {
     "name": "stdout",
     "output_type": "stream",
     "text": [
      "\n",
      "Number of Positive Reviews: 1000 \n",
      "Number of Positive Reviews: 1000\n"
     ]
    }
   ],
   "source": [
    "pos_reviews = open('data/positive.review', 'r', encoding='utf8', errors='ignore').read()\n",
    "neg_reviews = open('data/negative.review', 'r', encoding='utf8', errors='ignore').read()\n",
    "\n",
    "pos_rev_tree = ET.fromstring(pos_reviews)\n",
    "neg_rev_tree = ET.fromstring(neg_reviews)\n",
    "\n",
    "pos_tags = pos_rev_tree.findall('review')\n",
    "neg_tags = neg_rev_tree.findall('review')\n",
    "\n",
    "print('\\nNumber of Positive Reviews:', len(pos_tags),\n",
    "      '\\nNumber of Positive Reviews:', len(neg_tags))"
   ]
  },
  {
   "cell_type": "markdown",
   "metadata": {},
   "source": [
    "**Note:** \n",
    "* `fromstring()` parses XML from a string directly into an Element, which is the root element of the parsed tree;\n",
    "* `findall() ` finds all elements with a tag which are direct children of the current element (`reviews`)."
   ]
  },
  {
   "cell_type": "markdown",
   "metadata": {},
   "source": [
    "<h2 align=\"center\">XML Parse</h2>\n",
    "\n",
    "Now we will try to parse our XML file at a basic level. We will create a dictionary from the lists. Each list will contain certain tags and their content for single review. We already have a tree with positive and negative reviews, so all that remains is to parse it. But before that, let's list all the tags in our xml files so we don't have to repeat:"
   ]
  },
  {
   "cell_type": "code",
   "execution_count": 4,
   "metadata": {},
   "outputs": [],
   "source": [
    "review_tags = ['unique_id', 'asin', 'product_name', 'helpful', 'rating', 'title',\n",
    "               'date', 'reviewer', 'reviewer_location', 'review_text']"
   ]
  },
  {
   "cell_type": "code",
   "execution_count": 5,
   "metadata": {},
   "outputs": [],
   "source": [
    "def parseXML(xml_reviews):\n",
    "    reviews = {}\n",
    "    count = 0\n",
    "\n",
    "    for item in xml_reviews:\n",
    "        count += 1\n",
    "        rev_name = 'review' + str(count)\n",
    "        reviews[rev_name] = [\n",
    "            review_tags[0] + ' | ' + item.find(review_tags[0]).text,\n",
    "            review_tags[1] + ' | ' + item.find(review_tags[1]).text,\n",
    "            review_tags[2] + ' | ' + item.find(review_tags[2]).text,\n",
    "            review_tags[3] + ' | ' + item.find(review_tags[3]).text,\n",
    "            review_tags[4] + ' | ' + item.find(review_tags[4]).text,\n",
    "            review_tags[5] + ' | ' + item.find(review_tags[5]).text,\n",
    "            review_tags[6] + ' | ' + item.find(review_tags[6]).text,\n",
    "            review_tags[7] + ' | ' + item.find(review_tags[7]).text,\n",
    "            review_tags[8] + ' | ' + item.find(review_tags[8]).text,\n",
    "            review_tags[9] + ' | ' + item.find(review_tags[9]).text\n",
    "        ]\n",
    "\n",
    "    return reviews"
   ]
  },
  {
   "cell_type": "markdown",
   "metadata": {},
   "source": [
    "Now let's actually create dictionaries with the required values and check output:"
   ]
  },
  {
   "cell_type": "code",
   "execution_count": 6,
   "metadata": {},
   "outputs": [
    {
     "data": {
      "text/plain": [
       "['unique_id | \\n0375416811: owner_of_chick_lit: erin_oakes_ \"avid_reader\"\\n',\n",
       " 'asin | \\n0375416811\\n',\n",
       " 'product_name | \\nЩоденник Бріджит Джонс: Книги: Хелен Філдінг, Трейсі Беннет\\n',\n",
       " 'helpful | \\n\\n',\n",
       " 'rating | \\n5.0\\n',\n",
       " 'title | \\nЗасновник Чик-літ\\n',\n",
       " 'date | \\n24 серпня 2006 р\\n',\n",
       " 'reviewer | \\nЕрін Оукс \"завзятий читач\"\\n',\n",
       " 'reviewer_location | \\nЦентральна ПА\\n',\n",
       " 'review_text | \\nБріджит Джонс, сучасна жінка, блискуча і не знає цього, схильна до нещасних випадків та безладів, але їм вдається вийти з них.\\n\\nЦе книга, яка розпочала все з лихоманки, що запалюється. Бріджит Джонс - мій герой!\\n']"
      ]
     },
     "execution_count": 6,
     "metadata": {},
     "output_type": "execute_result"
    }
   ],
   "source": [
    "posReviewsDict = parseXML(pos_tags)\n",
    "negReviewsDict = parseXML(neg_tags)\n",
    "posReviewsDict['review1']"
   ]
  },
  {
   "cell_type": "markdown",
   "metadata": {},
   "source": [
    "Next, we will turn our reviews dictionaries into a Pandas DataFrame:"
   ]
  },
  {
   "cell_type": "code",
   "execution_count": 9,
   "metadata": {},
   "outputs": [],
   "source": [
    "def dictToDataFrame(reviews_dict):\n",
    "    # prepare our dataframe for the data\n",
    "    df = pd.DataFrame(columns=review_tags)\n",
    "    count = 0\n",
    "    for val in reviews_dict.values():\n",
    "        df.loc[count] = [\n",
    "            val[0].split(\"|\")[1].split(\"\\n\")[1], val[1].split(\"|\")[1].split(\"\\n\")[1],\n",
    "            val[2].split(\"|\")[1].split(\"\\n\")[1], val[3].split(\"|\")[1].split(\"\\n\")[1],\n",
    "            val[4].split(\"|\")[1].split(\"\\n\")[1], val[5].split(\"|\")[1].split(\"\\n\")[1],\n",
    "            val[6].split(\"|\")[1].split(\"\\n\")[1], val[7].split(\"|\")[1].split(\"\\n\")[1],\n",
    "            val[8].split(\"|\")[1].split(\"\\n\")[1], val[9].split(\"|\")[1].split(\"\\n\")[1]\n",
    "        ]\n",
    "\n",
    "        count = count + 1\n",
    "\n",
    "    return df\n",
    "\n",
    "posBooks = dictToDataFrame(posReviewsDict)\n",
    "negBooks = dictToDataFrame(negReviewsDict)"
   ]
  },
  {
   "cell_type": "markdown",
   "metadata": {},
   "source": [
    "Let's check for correctness:"
   ]
  },
  {
   "cell_type": "code",
   "execution_count": 10,
   "metadata": {},
   "outputs": [
    {
     "data": {
      "text/html": [
       "<div>\n",
       "<style scoped>\n",
       "    .dataframe tbody tr th:only-of-type {\n",
       "        vertical-align: middle;\n",
       "    }\n",
       "\n",
       "    .dataframe tbody tr th {\n",
       "        vertical-align: top;\n",
       "    }\n",
       "\n",
       "    .dataframe thead th {\n",
       "        text-align: right;\n",
       "    }\n",
       "</style>\n",
       "<table border=\"1\" class=\"dataframe\">\n",
       "  <thead>\n",
       "    <tr style=\"text-align: right;\">\n",
       "      <th></th>\n",
       "      <th>unique_id</th>\n",
       "      <th>asin</th>\n",
       "      <th>product_name</th>\n",
       "      <th>helpful</th>\n",
       "      <th>rating</th>\n",
       "      <th>title</th>\n",
       "      <th>date</th>\n",
       "      <th>reviewer</th>\n",
       "      <th>reviewer_location</th>\n",
       "      <th>review_text</th>\n",
       "    </tr>\n",
       "  </thead>\n",
       "  <tbody>\n",
       "    <tr>\n",
       "      <th>0</th>\n",
       "      <td>0375416811: owner_of_chick_lit: erin_oakes_ \"a...</td>\n",
       "      <td>0375416811</td>\n",
       "      <td>Щоденник Бріджит Джонс: Книги: Хелен Філдінг, ...</td>\n",
       "      <td></td>\n",
       "      <td>5.0</td>\n",
       "      <td>Засновник Чик-літ</td>\n",
       "      <td>24 серпня 2006 р</td>\n",
       "      <td>Ерін Оукс \"завзятий читач\"</td>\n",
       "      <td>Центральна ПА</td>\n",
       "      <td>Бріджит Джонс, сучасна жінка, блискуча і не зн...</td>\n",
       "    </tr>\n",
       "    <tr>\n",
       "      <th>1</th>\n",
       "      <td>188105201X: відмінний_ресурс_для_принципів!: O...</td>\n",
       "      <td>188105201X</td>\n",
       "      <td>Лідерство та нова наука: вивчення організації ...</td>\n",
       "      <td>3 з 3</td>\n",
       "      <td>5.0</td>\n",
       "      <td>Чудовий ресурс для директорів!</td>\n",
       "      <td>6 липня 1999 р</td>\n",
       "      <td>ONICKRE@mail.milwaukee.k12.wi.us</td>\n",
       "      <td>Мілуокі, штат Вісконсін</td>\n",
       "      <td>Я замовляю копії для всіх 23 директорів середн...</td>\n",
       "    </tr>\n",
       "    <tr>\n",
       "      <th>2</th>\n",
       "      <td>0634079190: fun_to_play: michael_p._nolan</td>\n",
       "      <td>0634079190</td>\n",
       "      <td>Avenue Q - мюзикл (аранжування на фортепіано /...</td>\n",
       "      <td></td>\n",
       "      <td>5.0</td>\n",
       "      <td>Забавно грати</td>\n",
       "      <td>15 вересня 2005 р</td>\n",
       "      <td>Майкл П. Нолан</td>\n",
       "      <td>Таллахассі, Флорида, США</td>\n",
       "      <td>Як випадковий гравець на фортепіано та фанат н...</td>\n",
       "    </tr>\n",
       "  </tbody>\n",
       "</table>\n",
       "</div>"
      ],
      "text/plain": [
       "                                           unique_id        asin  \\\n",
       "0  0375416811: owner_of_chick_lit: erin_oakes_ \"a...  0375416811   \n",
       "1  188105201X: відмінний_ресурс_для_принципів!: O...  188105201X   \n",
       "2          0634079190: fun_to_play: michael_p._nolan  0634079190   \n",
       "\n",
       "                                        product_name helpful rating  \\\n",
       "0  Щоденник Бріджит Джонс: Книги: Хелен Філдінг, ...            5.0   \n",
       "1  Лідерство та нова наука: вивчення організації ...   3 з 3    5.0   \n",
       "2  Avenue Q - мюзикл (аранжування на фортепіано /...            5.0   \n",
       "\n",
       "                            title               date  \\\n",
       "0               Засновник Чик-літ   24 серпня 2006 р   \n",
       "1  Чудовий ресурс для директорів!     6 липня 1999 р   \n",
       "2                   Забавно грати  15 вересня 2005 р   \n",
       "\n",
       "                           reviewer         reviewer_location  \\\n",
       "0        Ерін Оукс \"завзятий читач\"             Центральна ПА   \n",
       "1  ONICKRE@mail.milwaukee.k12.wi.us   Мілуокі, штат Вісконсін   \n",
       "2                    Майкл П. Нолан  Таллахассі, Флорида, США   \n",
       "\n",
       "                                         review_text  \n",
       "0  Бріджит Джонс, сучасна жінка, блискуча і не зн...  \n",
       "1  Я замовляю копії для всіх 23 директорів середн...  \n",
       "2  Як випадковий гравець на фортепіано та фанат н...  "
      ]
     },
     "execution_count": 10,
     "metadata": {},
     "output_type": "execute_result"
    }
   ],
   "source": [
    "posBooks.head(n=3)"
   ]
  },
  {
   "cell_type": "code",
   "execution_count": null,
   "metadata": {},
   "outputs": [],
   "source": []
  }
 ],
 "metadata": {
  "kernelspec": {
   "display_name": "Python 3",
   "language": "python",
   "name": "python3"
  },
  "language_info": {
   "codemirror_mode": {
    "name": "ipython",
    "version": 3
   },
   "file_extension": ".py",
   "mimetype": "text/x-python",
   "name": "python",
   "nbconvert_exporter": "python",
   "pygments_lexer": "ipython3",
   "version": "3.8.2"
  }
 },
 "nbformat": 4,
 "nbformat_minor": 4
}
